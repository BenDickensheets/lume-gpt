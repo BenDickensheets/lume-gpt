{
 "cells": [
  {
   "cell_type": "markdown",
   "id": "f622210c-13a4-48d5-8298-ce8229781f39",
   "metadata": {},
   "source": [
    "# GPT Remove Particle Elements\n",
    "---"
   ]
  },
  {
   "cell_type": "code",
   "execution_count": 1,
   "id": "7ff809e9-89c9-48c1-aa85-d94ff888c69a",
   "metadata": {},
   "outputs": [],
   "source": [
    "from distgen import Generator\n",
    "\n",
    "from gpt import GPT\n",
    "from gpt.element import Screen\n",
    "from gpt.lattice import Lattice\n",
    "from gpt.remove_particles import Aperture\n",
    "from gpt.remove_particles import CircularAperture\n",
    "\n",
    "from matplotlib import pyplot as plt\n",
    "from mpl_toolkits.mplot3d import Axes3D\n",
    "\n",
    "import os\n",
    "\n",
    "%load_ext autoreload\n",
    "%autoreload 2\n",
    "%config InlineBackend.figure_format = 'retina'"
   ]
  },
  {
   "cell_type": "markdown",
   "id": "6cd56ba6-7970-437c-8675-20e3dbe90577",
   "metadata": {},
   "source": [
    "## Circular Aperture\n",
    "This object uses the more general GPT Aperture object, and assumes cylindrical symmetry."
   ]
  },
  {
   "cell_type": "code",
   "execution_count": 2,
   "id": "bad000f7-a9ba-497a-9727-19c5e55d4b2c",
   "metadata": {},
   "outputs": [],
   "source": [
    "lat = Lattice('aperture_test')\n",
    "lat.add(CircularAperture('a1', 1e-2, Rmax = 5e-2), ds=0.1)\n",
    "lat.add(Screen('scr'), ds=0.25, ref_element='beg')"
   ]
  },
  {
   "cell_type": "code",
   "execution_count": 3,
   "id": "87fb3ebd-8481-43b6-9b59-72ee67f511c8",
   "metadata": {},
   "outputs": [],
   "source": [
    "_=lat.write_gpt_lines(output_file='aperture.in')"
   ]
  },
  {
   "cell_type": "code",
   "execution_count": 4,
   "id": "196ae12f-2c62-43df-8380-e99d73d88cac",
   "metadata": {},
   "outputs": [],
   "source": [
    "distgen_yaml = \"\"\"\n",
    "n_particle: 1000\n",
    "total_charge: 0 C\n",
    "random:\n",
    "    type: hammersley\n",
    "r_dist:\n",
    "    type: ru\n",
    "    max_r: 2 cm\n",
    "start:\n",
    "    type: time\n",
    "\"\"\""
   ]
  },
  {
   "cell_type": "code",
   "execution_count": 5,
   "id": "eb801c5f-abfb-4fb7-85c9-65d8c90cc888",
   "metadata": {},
   "outputs": [
    {
     "ename": "AssertionError",
     "evalue": "Required generator parameter species not found.",
     "output_type": "error",
     "traceback": [
      "\u001b[0;31m---------------------------------------------------------------------------\u001b[0m",
      "\u001b[0;31mAssertionError\u001b[0m                            Traceback (most recent call last)",
      "Cell \u001b[0;32mIn[5], line 1\u001b[0m\n\u001b[0;32m----> 1\u001b[0m D \u001b[38;5;241m=\u001b[39m \u001b[43mGenerator\u001b[49m\u001b[43m(\u001b[49m\u001b[43mdistgen_yaml\u001b[49m\u001b[43m)\u001b[49m\n\u001b[1;32m      2\u001b[0m P \u001b[38;5;241m=\u001b[39m D\u001b[38;5;241m.\u001b[39mrun()\n\u001b[1;32m      3\u001b[0m P\u001b[38;5;241m.\u001b[39mpz \u001b[38;5;241m=\u001b[39m \u001b[38;5;241m1e3\u001b[39m\n",
      "File \u001b[0;32m~/miniforge3/envs/lume-gpt-dev/lib/python3.12/site-packages/distgen/generator.py:89\u001b[0m, in \u001b[0;36mGenerator.__init__\u001b[0;34m(self, *args, **kwargs)\u001b[0m\n\u001b[1;32m     86\u001b[0m \u001b[38;5;28mself\u001b[39m\u001b[38;5;241m.\u001b[39mparticles \u001b[38;5;241m=\u001b[39m \u001b[38;5;28;01mNone\u001b[39;00m\n\u001b[1;32m     88\u001b[0m \u001b[38;5;28;01mif\u001b[39;00m \u001b[38;5;28mself\u001b[39m\u001b[38;5;241m.\u001b[39minput_file:\n\u001b[0;32m---> 89\u001b[0m     \u001b[38;5;28;43mself\u001b[39;49m\u001b[38;5;241;43m.\u001b[39;49m\u001b[43mparse_input\u001b[49m\u001b[43m(\u001b[49m\u001b[38;5;28;43mself\u001b[39;49m\u001b[38;5;241;43m.\u001b[39;49m\u001b[43minput_file\u001b[49m\u001b[43m)\u001b[49m\n\u001b[1;32m     90\u001b[0m     \u001b[38;5;28mself\u001b[39m\u001b[38;5;241m.\u001b[39mconfigure()\n",
      "File \u001b[0;32m~/miniforge3/envs/lume-gpt-dev/lib/python3.12/site-packages/distgen/generator.py:120\u001b[0m, in \u001b[0;36mGenerator.parse_input\u001b[0;34m(self, input)\u001b[0m\n\u001b[1;32m    117\u001b[0m \u001b[38;5;28;01melse\u001b[39;00m: expand_input_filepaths(\u001b[38;5;28minput\u001b[39m)\n\u001b[1;32m    119\u001b[0m \u001b[38;5;28minput\u001b[39m \u001b[38;5;241m=\u001b[39m convert_input_quantities(\u001b[38;5;28minput\u001b[39m)\n\u001b[0;32m--> 120\u001b[0m \u001b[38;5;28;43mself\u001b[39;49m\u001b[38;5;241;43m.\u001b[39;49m\u001b[43mcheck_input_consistency\u001b[49m\u001b[43m(\u001b[49m\u001b[38;5;28;43minput\u001b[39;49m\u001b[43m)\u001b[49m\n\u001b[1;32m    121\u001b[0m \u001b[38;5;28mself\u001b[39m\u001b[38;5;241m.\u001b[39m_input \u001b[38;5;241m=\u001b[39m \u001b[38;5;28minput\u001b[39m\n",
      "File \u001b[0;32m~/miniforge3/envs/lume-gpt-dev/lib/python3.12/site-packages/distgen/generator.py:214\u001b[0m, in \u001b[0;36mGenerator.check_input_consistency\u001b[0;34m(self, params)\u001b[0m\n\u001b[1;32m    212\u001b[0m required_params \u001b[38;5;241m=\u001b[39m [\u001b[38;5;124m'\u001b[39m\u001b[38;5;124mn_particle\u001b[39m\u001b[38;5;124m'\u001b[39m, \u001b[38;5;124m'\u001b[39m\u001b[38;5;124mtotal_charge\u001b[39m\u001b[38;5;124m'\u001b[39m, \u001b[38;5;124m'\u001b[39m\u001b[38;5;124mspecies\u001b[39m\u001b[38;5;124m'\u001b[39m]\n\u001b[1;32m    213\u001b[0m \u001b[38;5;28;01mfor\u001b[39;00m rp \u001b[38;5;129;01min\u001b[39;00m required_params:\n\u001b[0;32m--> 214\u001b[0m     \u001b[38;5;28;01massert\u001b[39;00m rp \u001b[38;5;129;01min\u001b[39;00m params, \u001b[38;5;124m'\u001b[39m\u001b[38;5;124mRequired generator parameter \u001b[39m\u001b[38;5;124m'\u001b[39m \u001b[38;5;241m+\u001b[39m rp \u001b[38;5;241m+\u001b[39m \u001b[38;5;124m'\u001b[39m\u001b[38;5;124m not found.\u001b[39m\u001b[38;5;124m'\u001b[39m\n\u001b[1;32m    216\u001b[0m \u001b[38;5;66;03m# Check that only allowed params present at top level\u001b[39;00m\n\u001b[1;32m    217\u001b[0m allowed_params \u001b[38;5;241m=\u001b[39m required_params \u001b[38;5;241m+\u001b[39m [\u001b[38;5;124m'\u001b[39m\u001b[38;5;124moutput\u001b[39m\u001b[38;5;124m'\u001b[39m, \u001b[38;5;124m'\u001b[39m\u001b[38;5;124mtransforms\u001b[39m\u001b[38;5;124m'\u001b[39m, \u001b[38;5;124m'\u001b[39m\u001b[38;5;124mstart\u001b[39m\u001b[38;5;124m'\u001b[39m, \u001b[38;5;124m'\u001b[39m\u001b[38;5;124mrandom_seed\u001b[39m\u001b[38;5;124m'\u001b[39m, \u001b[38;5;124m'\u001b[39m\u001b[38;5;124mrandom_type\u001b[39m\u001b[38;5;124m'\u001b[39m, \u001b[38;5;124m'\u001b[39m\u001b[38;5;124mrandom\u001b[39m\u001b[38;5;124m'\u001b[39m]\n",
      "\u001b[0;31mAssertionError\u001b[0m: Required generator parameter species not found."
     ]
    }
   ],
   "source": [
    "D = Generator(distgen_yaml)\n",
    "P = D.run()\n",
    "P.pz = 1e3"
   ]
  },
  {
   "cell_type": "code",
   "execution_count": null,
   "id": "b432401b-4fe9-4d2a-94c6-9222dcee2d05",
   "metadata": {},
   "outputs": [],
   "source": [
    "G = GPT('aperture.in', initial_particles=P)\n",
    "G.set_variables({'ZSTOP':0.25, 'tmax':50e-8, 'Ntout': 200})\n",
    "G.run()"
   ]
  },
  {
   "cell_type": "code",
   "execution_count": null,
   "id": "9602aa22-2fc3-4414-8598-61faa762d043",
   "metadata": {},
   "outputs": [],
   "source": [
    "print(G)"
   ]
  },
  {
   "cell_type": "code",
   "execution_count": null,
   "id": "a6e96458-c574-4a24-a831-1378714a61a3",
   "metadata": {},
   "outputs": [],
   "source": [
    "ax = plt.gca()\n",
    "for ii in range(1, D['n_particle']+1):\n",
    "    tii = G.trajectory(ii, data_type='tout')\n",
    "    ax.plot(tii['z'], tii['x'])\n",
    "ax = lat.plot_floor()"
   ]
  },
  {
   "cell_type": "code",
   "execution_count": null,
   "id": "bc8fe3b1-3d41-4a79-9b5b-101df8b77d12",
   "metadata": {},
   "outputs": [],
   "source": [
    "fig = plt.figure()\n",
    "ax = fig.add_subplot(111, projection='3d')\n",
    "for ii in range(1, D['n_particle']):\n",
    "    tii = G.trajectory(ii, data_type='tout')\n",
    "    if(tii['z'][-1]>0.1):\n",
    "        ax.plot(tii['x']*1000, tii['y']*1000, tii['z'], zdir='x', alpha=0.5)\n",
    "    else:\n",
    "        ax.plot(tii['x']*1000, tii['y']*1000, tii['z'], zdir='x', alpha=0.1)\n",
    "    \n",
    "ax.set_xlabel('z (m)');\n",
    "ax.set_ylabel('x (mm)');\n",
    "ax.set_zlabel('y (mm)');\n",
    "ax.set_ylim([-20, 20])\n",
    "ax.set_zlim([-20, 20])"
   ]
  },
  {
   "cell_type": "code",
   "execution_count": null,
   "id": "e076de92-0ef0-418a-968f-fa6e2cdd4189",
   "metadata": {},
   "outputs": [],
   "source": [
    "plt.plot(G.tout_stat('mean_z'), +G.tout_stat('sigma_x'))\n",
    "plt.plot(G.tout_stat('mean_z'), +G.tout_stat('max_x'), '--k', alpha=0.2)\n",
    "plt.plot(G.tout_stat('mean_z'), -G.tout_stat('sigma_x'), color='tab:blue');\n",
    "plt.plot(G.tout_stat('mean_z'), +G.tout_stat('max_x'), '--k', alpha=0.2)\n",
    "plt.plot(G.tout_stat('mean_z'), -G.tout_stat('max_x'), '--k', alpha=0.2);\n",
    "plt.xlabel('z (m)')\n",
    "plt.ylabel(r'$\\sigma_{x,y}$, max[$x$, $y$] (m)')\n",
    "plt.legend([r'$\\sigma_{x,y}$', r'max[$x$, $y$]'])"
   ]
  },
  {
   "cell_type": "code",
   "execution_count": null,
   "id": "eee828f1-2786-474a-a41b-14b791563e43",
   "metadata": {},
   "outputs": [],
   "source": [
    "os.remove('aperture.in')"
   ]
  },
  {
   "cell_type": "markdown",
   "id": "f983e6f4-21c0-4c34-be0d-458119dfb778",
   "metadata": {},
   "source": [
    "## Aperture\n",
    "This wraps the more General GPT Aperture object and allows for elliptical aperture shape or providing a bitmap file."
   ]
  },
  {
   "cell_type": "code",
   "execution_count": null,
   "id": "d19c3982-df50-491f-bc68-3d113a29f89e",
   "metadata": {},
   "outputs": [],
   "source": [
    "lat2 = Lattice('aperture_test')\n",
    "lat2.add(Aperture('a1', a=0.01, b=0.01) , ds=0.1)\n",
    "lat2.add(Screen('scr'), ds=0.25, ref_element='beg')"
   ]
  },
  {
   "cell_type": "code",
   "execution_count": null,
   "id": "4d16d0b3-dfbd-4a88-b753-245a01567dc8",
   "metadata": {},
   "outputs": [],
   "source": [
    "_=lat2.write_gpt_lines(output_file='aperture2.in')"
   ]
  },
  {
   "cell_type": "code",
   "execution_count": null,
   "id": "c8d473ca-6560-4fab-b459-34e33a3c73b0",
   "metadata": {},
   "outputs": [],
   "source": [
    "G2 = GPT('aperture2.in', initial_particles=P)\n",
    "G2.set_variables({'ZSTOP':0.25, 'tmax':50e-8, 'Ntout': 200})\n",
    "G2.run()"
   ]
  },
  {
   "cell_type": "code",
   "execution_count": null,
   "id": "9a66edae-696b-4bb2-9621-c7cb74de6b45",
   "metadata": {},
   "outputs": [],
   "source": [
    "ax = plt.gca()\n",
    "for ii in range(1, D['n_particle']+1):\n",
    "    tii = G2.trajectory(ii, data_type='tout')\n",
    "    ax.plot(tii['z'], tii['x'])\n",
    "ax = lat.plot_floor()"
   ]
  },
  {
   "cell_type": "code",
   "execution_count": null,
   "id": "b29e9135-d2a6-4750-9573-9c0d056922bb",
   "metadata": {},
   "outputs": [],
   "source": [
    "plt.plot(G2.tout_stat('mean_z'), +G2.tout_stat('sigma_x'))\n",
    "plt.plot(G2.tout_stat('mean_z'), +G2.tout_stat('max_x'), '--k', alpha=0.2)\n",
    "plt.plot(G2.tout_stat('mean_z'), -G2.tout_stat('sigma_x'), color='tab:blue');\n",
    "plt.plot(G2.tout_stat('mean_z'), +G2.tout_stat('max_x'), '--k', alpha=0.2)\n",
    "plt.plot(G2.tout_stat('mean_z'), -G2.tout_stat('max_x'), '--k', alpha=0.2);\n",
    "plt.xlabel('z (m)')\n",
    "plt.ylabel(r'$\\sigma_{x,y}$, max[$x$, $y$] (m)')\n",
    "plt.legend([r'$\\sigma_{x,y}$', r'max[$x$, $y$]'])"
   ]
  },
  {
   "cell_type": "code",
   "execution_count": null,
   "id": "2712f63e-55b9-4d13-b6ed-446702271b54",
   "metadata": {},
   "outputs": [],
   "source": [
    "lat3 = Lattice('aperture_test')\n",
    "lat3.add(Aperture('a1', a=0.01, b=0.03) , ds=0.1)\n",
    "lat3.add(Screen('scr'), ds=0.25, ref_element='beg')"
   ]
  },
  {
   "cell_type": "code",
   "execution_count": null,
   "id": "fe01ed05-dd0f-4e59-a136-5445f59d07fb",
   "metadata": {},
   "outputs": [],
   "source": [
    "_=lat3.write_gpt_lines(output_file='aperture3.in')"
   ]
  },
  {
   "cell_type": "code",
   "execution_count": null,
   "id": "0d01d6c5-65b0-4b77-b312-c6cf90c18da9",
   "metadata": {},
   "outputs": [],
   "source": [
    "D['r_dist:max_r'] = 6\n",
    "D['n_particle']=2000\n",
    "P = D.run()\n",
    "P.pz = 1e3"
   ]
  },
  {
   "cell_type": "code",
   "execution_count": null,
   "id": "7d369053-58e5-426f-b1e1-010922d18acb",
   "metadata": {},
   "outputs": [],
   "source": [
    "G3 = GPT('aperture3.in', initial_particles=P)\n",
    "G3.set_variables({'ZSTOP':0.25, 'tmax':50e-8, 'Ntout': 200})\n",
    "G3.run()"
   ]
  },
  {
   "cell_type": "code",
   "execution_count": null,
   "id": "b3b50464-5eac-4f2a-99a9-48e830627c0f",
   "metadata": {},
   "outputs": [],
   "source": [
    "ax = plt.gca()\n",
    "for ii in range(1, D['n_particle']+1):\n",
    "    tii = G3.trajectory(ii, data_type='tout')\n",
    "    ax.plot(tii['z'], tii['x'])\n",
    "ax = lat.plot_floor()"
   ]
  },
  {
   "cell_type": "code",
   "execution_count": null,
   "id": "30e59e21-9127-4aa0-b426-38bc50b9e9ef",
   "metadata": {},
   "outputs": [],
   "source": [
    "print(G3)"
   ]
  },
  {
   "cell_type": "code",
   "execution_count": null,
   "id": "986416ec-6c2a-40bf-b32e-e7f152bac414",
   "metadata": {},
   "outputs": [],
   "source": [
    "fig = plt.figure()\n",
    "ax = fig.add_subplot(111, projection='3d')\n",
    "for ii in range(1, D['n_particle']+1, 1):\n",
    "    tii = G3.trajectory(ii, data_type='tout')\n",
    "    if(tii['z'][-1]>0.1):\n",
    "        ax.plot(tii['x']*1000, tii['y']*1000, tii['z'], zdir='x', alpha=0.5)\n",
    "    else:\n",
    "        ax.plot(tii['x']*1000, tii['y']*1000, tii['z'], zdir='x', alpha=0.1)\n",
    "        \n",
    "    \n",
    "ax.set_xlabel('z (m)');\n",
    "ax.set_ylabel('x (mm)');\n",
    "ax.set_zlabel('y (mm)');\n",
    "ax.set_ylim([-60, 60])\n",
    "ax.set_zlim([-60, 60])"
   ]
  },
  {
   "cell_type": "code",
   "execution_count": null,
   "id": "5008a574-76cf-4a12-b136-1dd053195ac3",
   "metadata": {},
   "outputs": [],
   "source": [
    "fig = plt.figure(figsize=(5,5))\n",
    "ax = plt.gca()\n",
    "for ii in range(1, D['n_particle']+1, 1):\n",
    "    tii = G3.trajectory(ii, data_type='tout')\n",
    "    if(tii['z'][-1]>0.1):\n",
    "        ax.plot(tii['x']*100, tii['y']*100, '.')\n",
    "ax.set_aspect('equal')\n",
    "ax.set_xlabel('x (cm)')\n",
    "ax.set_ylabel('y (cm)')"
   ]
  },
  {
   "cell_type": "code",
   "execution_count": null,
   "id": "7d691118-1ece-47e1-9c40-b07b511af272",
   "metadata": {},
   "outputs": [],
   "source": [
    "plt.plot(G3.tout_stat('mean_z'), +G3.tout_stat('sigma_x'))\n",
    "plt.plot(G3.tout_stat('mean_z'), +G3.tout_stat('sigma_y'))\n",
    "\n",
    "plt.plot(G3.tout_stat('mean_z'), -G3.tout_stat('sigma_x'), color='tab:blue');\n",
    "plt.plot(G3.tout_stat('mean_z'), -G3.tout_stat('sigma_y'), color='tab:orange')\n",
    "plt.xlabel('z (m)')\n",
    "plt.ylabel(r'$\\sigma_{x,y}$, max[$x$, $y$] (m)')\n",
    "plt.legend([r'$\\sigma_{x,y}$', r'max[$x$, $y$]'])"
   ]
  },
  {
   "cell_type": "code",
   "execution_count": null,
   "id": "598a8e19-7dbc-4fce-8066-9387afe76f4e",
   "metadata": {},
   "outputs": [],
   "source": [
    "os.remove('aperture2.in')\n",
    "os.remove('aperture3.in')"
   ]
  },
  {
   "cell_type": "code",
   "execution_count": null,
   "id": "f20a1b07-1af4-47e5-b488-486dd9804500",
   "metadata": {},
   "outputs": [],
   "source": []
  }
 ],
 "metadata": {
  "kernelspec": {
   "display_name": "Python 3 (ipykernel)",
   "language": "python",
   "name": "python3"
  },
  "language_info": {
   "codemirror_mode": {
    "name": "ipython",
    "version": 3
   },
   "file_extension": ".py",
   "mimetype": "text/x-python",
   "name": "python",
   "nbconvert_exporter": "python",
   "pygments_lexer": "ipython3",
   "version": "3.12.1"
  }
 },
 "nbformat": 4,
 "nbformat_minor": 5
}
