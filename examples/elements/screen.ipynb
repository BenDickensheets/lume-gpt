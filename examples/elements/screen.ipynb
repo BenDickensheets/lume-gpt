{
 "cells": [
  {
   "cell_type": "code",
   "execution_count": 1,
   "metadata": {},
   "outputs": [],
   "source": [
    "# Useful for debugging\n",
    "%load_ext autoreload\n",
    "%autoreload 2\n",
    "\n",
    "from matplotlib import pyplot as plt\n",
    "import matplotlib \n",
    "\n",
    "%matplotlib inline\n",
    "%config InlineBackend.figure_format = 'retina'\n",
    "\n",
    "import sys, os\n",
    "root = os.path.join(os.getcwd(), '../../')\n",
    "sys.path.append(root)\n",
    "\n",
    "import math\n",
    "import numpy as np\n",
    "\n",
    "DISTGEN_INPUT_FILE = os.path.join(root, 'examples/templates/sectormagnet/distgen.in.yaml')"
   ]
  },
  {
   "cell_type": "code",
   "execution_count": 2,
   "metadata": {},
   "outputs": [
    {
     "data": {
      "text/plain": [
       "['screen(\"wcs\", 0, 0, 0.0, 1, 0, 0, 0, 1, 0, 1.0);']"
      ]
     },
     "execution_count": 2,
     "metadata": {},
     "output_type": "execute_result"
    },
    {
     "data": {
      "image/png": "[encoded data removed]",
      "text/plain": [
       "<Figure size 640x480 with 1 Axes>"
      ]
     },
     "metadata": {
      "image/png": {
       "height": 163,
       "width": 578
      }
     },
     "output_type": "display_data"
    }
   ],
   "source": [
    "from gpt.element import Screen\n",
    "from gpt.lattice import Lattice\n",
    "\n",
    "lat = Lattice('Single Bend')\n",
    "lat.add(Screen('s1'), ds=1)\n",
    "lat.plot_floor();\n",
    "\n",
    "lat[-1].gpt_lines()"
   ]
  },
  {
   "cell_type": "code",
   "execution_count": 3,
   "metadata": {},
   "outputs": [
    {
     "ename": "AssertionError",
     "evalue": "Required generator parameter species not found.",
     "output_type": "error",
     "traceback": [
      "\u001b[0;31m---------------------------------------------------------------------------\u001b[0m",
      "\u001b[0;31mAssertionError\u001b[0m                            Traceback (most recent call last)",
      "Cell \u001b[0;32mIn[3], line 5\u001b[0m\n\u001b[1;32m      2\u001b[0m \u001b[38;5;28;01mfrom\u001b[39;00m \u001b[38;5;21;01mdistgen\u001b[39;00m\u001b[38;5;21;01m.\u001b[39;00m\u001b[38;5;21;01mphysical_constants\u001b[39;00m \u001b[38;5;28;01mimport\u001b[39;00m unit_registry\n\u001b[1;32m      3\u001b[0m \u001b[38;5;28;01mfrom\u001b[39;00m \u001b[38;5;21;01mgpt\u001b[39;00m \u001b[38;5;28;01mimport\u001b[39;00m GPT\n\u001b[0;32m----> 5\u001b[0m gen \u001b[38;5;241m=\u001b[39m \u001b[43mGenerator\u001b[49m\u001b[43m(\u001b[49m\u001b[43mDISTGEN_INPUT_FILE\u001b[49m\u001b[43m,\u001b[49m\u001b[43m \u001b[49m\u001b[43mverbose\u001b[49m\u001b[38;5;241;43m=\u001b[39;49m\u001b[38;5;241;43m0\u001b[39;49m\u001b[43m)\u001b[49m\n\u001b[1;32m      7\u001b[0m gen[\u001b[38;5;124m'\u001b[39m\u001b[38;5;124mr_dist\u001b[39m\u001b[38;5;124m'\u001b[39m]\u001b[38;5;241m=\u001b[39m{\u001b[38;5;124m'\u001b[39m\u001b[38;5;124mtype\u001b[39m\u001b[38;5;124m'\u001b[39m:\u001b[38;5;124m'\u001b[39m\u001b[38;5;124mradial_uniform\u001b[39m\u001b[38;5;124m'\u001b[39m, \u001b[38;5;124m'\u001b[39m\u001b[38;5;124mmin_r\u001b[39m\u001b[38;5;124m'\u001b[39m: \u001b[38;5;241m0\u001b[39m\u001b[38;5;241m*\u001b[39munit_registry(\u001b[38;5;124m'\u001b[39m\u001b[38;5;124mm\u001b[39m\u001b[38;5;124m'\u001b[39m), \u001b[38;5;124m'\u001b[39m\u001b[38;5;124mmax_r\u001b[39m\u001b[38;5;124m'\u001b[39m: \u001b[38;5;241m1\u001b[39m\u001b[38;5;241m*\u001b[39munit_registry(\u001b[38;5;124m'\u001b[39m\u001b[38;5;124mmm\u001b[39m\u001b[38;5;124m'\u001b[39m)}\n\u001b[1;32m      8\u001b[0m gen[\u001b[38;5;124m'\u001b[39m\u001b[38;5;124mpx_dist\u001b[39m\u001b[38;5;124m'\u001b[39m]\u001b[38;5;241m=\u001b[39m{\u001b[38;5;124m'\u001b[39m\u001b[38;5;124mtype\u001b[39m\u001b[38;5;124m'\u001b[39m:\u001b[38;5;124m'\u001b[39m\u001b[38;5;124mgaussian\u001b[39m\u001b[38;5;124m'\u001b[39m, \u001b[38;5;124m'\u001b[39m\u001b[38;5;124msigma_px\u001b[39m\u001b[38;5;124m'\u001b[39m:\u001b[38;5;241m500\u001b[39m\u001b[38;5;241m*\u001b[39munit_registry(\u001b[38;5;124m'\u001b[39m\u001b[38;5;124meV/c\u001b[39m\u001b[38;5;124m'\u001b[39m)}\n",
      "File \u001b[0;32m~/miniforge3/envs/lume-gpt-dev/lib/python3.12/site-packages/distgen/generator.py:89\u001b[0m, in \u001b[0;36mGenerator.__init__\u001b[0;34m(self, *args, **kwargs)\u001b[0m\n\u001b[1;32m     86\u001b[0m \u001b[38;5;28mself\u001b[39m\u001b[38;5;241m.\u001b[39mparticles \u001b[38;5;241m=\u001b[39m \u001b[38;5;28;01mNone\u001b[39;00m\n\u001b[1;32m     88\u001b[0m \u001b[38;5;28;01mif\u001b[39;00m \u001b[38;5;28mself\u001b[39m\u001b[38;5;241m.\u001b[39minput_file:\n\u001b[0;32m---> 89\u001b[0m     \u001b[38;5;28;43mself\u001b[39;49m\u001b[38;5;241;43m.\u001b[39;49m\u001b[43mparse_input\u001b[49m\u001b[43m(\u001b[49m\u001b[38;5;28;43mself\u001b[39;49m\u001b[38;5;241;43m.\u001b[39;49m\u001b[43minput_file\u001b[49m\u001b[43m)\u001b[49m\n\u001b[1;32m     90\u001b[0m     \u001b[38;5;28mself\u001b[39m\u001b[38;5;241m.\u001b[39mconfigure()\n",
      "File \u001b[0;32m~/miniforge3/envs/lume-gpt-dev/lib/python3.12/site-packages/distgen/generator.py:120\u001b[0m, in \u001b[0;36mGenerator.parse_input\u001b[0;34m(self, input)\u001b[0m\n\u001b[1;32m    117\u001b[0m \u001b[38;5;28;01melse\u001b[39;00m: expand_input_filepaths(\u001b[38;5;28minput\u001b[39m)\n\u001b[1;32m    119\u001b[0m \u001b[38;5;28minput\u001b[39m \u001b[38;5;241m=\u001b[39m convert_input_quantities(\u001b[38;5;28minput\u001b[39m)\n\u001b[0;32m--> 120\u001b[0m \u001b[38;5;28;43mself\u001b[39;49m\u001b[38;5;241;43m.\u001b[39;49m\u001b[43mcheck_input_consistency\u001b[49m\u001b[43m(\u001b[49m\u001b[38;5;28;43minput\u001b[39;49m\u001b[43m)\u001b[49m\n\u001b[1;32m    121\u001b[0m \u001b[38;5;28mself\u001b[39m\u001b[38;5;241m.\u001b[39m_input \u001b[38;5;241m=\u001b[39m \u001b[38;5;28minput\u001b[39m\n",
      "File \u001b[0;32m~/miniforge3/envs/lume-gpt-dev/lib/python3.12/site-packages/distgen/generator.py:214\u001b[0m, in \u001b[0;36mGenerator.check_input_consistency\u001b[0;34m(self, params)\u001b[0m\n\u001b[1;32m    212\u001b[0m required_params \u001b[38;5;241m=\u001b[39m [\u001b[38;5;124m'\u001b[39m\u001b[38;5;124mn_particle\u001b[39m\u001b[38;5;124m'\u001b[39m, \u001b[38;5;124m'\u001b[39m\u001b[38;5;124mtotal_charge\u001b[39m\u001b[38;5;124m'\u001b[39m, \u001b[38;5;124m'\u001b[39m\u001b[38;5;124mspecies\u001b[39m\u001b[38;5;124m'\u001b[39m]\n\u001b[1;32m    213\u001b[0m \u001b[38;5;28;01mfor\u001b[39;00m rp \u001b[38;5;129;01min\u001b[39;00m required_params:\n\u001b[0;32m--> 214\u001b[0m     \u001b[38;5;28;01massert\u001b[39;00m rp \u001b[38;5;129;01min\u001b[39;00m params, \u001b[38;5;124m'\u001b[39m\u001b[38;5;124mRequired generator parameter \u001b[39m\u001b[38;5;124m'\u001b[39m \u001b[38;5;241m+\u001b[39m rp \u001b[38;5;241m+\u001b[39m \u001b[38;5;124m'\u001b[39m\u001b[38;5;124m not found.\u001b[39m\u001b[38;5;124m'\u001b[39m\n\u001b[1;32m    216\u001b[0m \u001b[38;5;66;03m# Check that only allowed params present at top level\u001b[39;00m\n\u001b[1;32m    217\u001b[0m allowed_params \u001b[38;5;241m=\u001b[39m required_params \u001b[38;5;241m+\u001b[39m [\u001b[38;5;124m'\u001b[39m\u001b[38;5;124moutput\u001b[39m\u001b[38;5;124m'\u001b[39m, \u001b[38;5;124m'\u001b[39m\u001b[38;5;124mtransforms\u001b[39m\u001b[38;5;124m'\u001b[39m, \u001b[38;5;124m'\u001b[39m\u001b[38;5;124mstart\u001b[39m\u001b[38;5;124m'\u001b[39m, \u001b[38;5;124m'\u001b[39m\u001b[38;5;124mrandom_seed\u001b[39m\u001b[38;5;124m'\u001b[39m, \u001b[38;5;124m'\u001b[39m\u001b[38;5;124mrandom_type\u001b[39m\u001b[38;5;124m'\u001b[39m, \u001b[38;5;124m'\u001b[39m\u001b[38;5;124mrandom\u001b[39m\u001b[38;5;124m'\u001b[39m]\n",
      "\u001b[0;31mAssertionError\u001b[0m: Required generator parameter species not found."
     ]
    }
   ],
   "source": [
    "from distgen import Generator\n",
    "from distgen.physical_constants import unit_registry\n",
    "from gpt import GPT\n",
    "\n",
    "gen = Generator(DISTGEN_INPUT_FILE, verbose=0)\n",
    "\n",
    "gen['r_dist']={'type':'radial_uniform', 'min_r': 0*unit_registry('m'), 'max_r': 1*unit_registry('mm')}\n",
    "gen['px_dist']={'type':'gaussian', 'sigma_px':500*unit_registry('eV/c')}\n",
    "gen['py_dist']={'type':'gaussian', 'sigma_py':500*unit_registry('eV/c')}\n",
    "\n",
    "set_pz = {\n",
    "    'type': 'set_avg pz', \n",
    "    'avg_pz':{'value':+1, 'units':'GeV/c'}\n",
    "}\n",
    "\n",
    "twiss_x = {\n",
    "    'type':'set_twiss x', \n",
    "    'beta': {'value':12.5, 'units':'m',},\n",
    "    'alpha':{'value':0, 'units':''},\n",
    "    'emittance': {'value':2, 'units':'um'}\n",
    "}\n",
    "\n",
    "gen['transforms']={'pz':set_pz, 'twiss':twiss_x, 'order':['pz','twiss']}\n",
    "gen['n_particle']=1000\n",
    "gen.run()\n",
    "\n",
    "lat.write_gpt_lines(output_file='gpt.temp.in')\n",
    "\n",
    "G = GPT(input_file='gpt.temp.in', initial_particles=gen.particles)\n",
    "G.run()"
   ]
  },
  {
   "cell_type": "code",
   "execution_count": null,
   "metadata": {},
   "outputs": [],
   "source": [
    "t1 = G.trajectory(1, data_type='tout')\n",
    "fig = plt.figure()\n",
    "ax = fig.add_subplot(111)\n",
    "\n",
    "legend = []\n",
    "\n",
    "for ii in range(0,70):\n",
    "    tii = G.trajectory(ii, data_type='tout')\n",
    "    if(tii):\n",
    "        plt.plot(tii['z'], tii['x'])\n",
    "\n",
    "plt.xlabel('z (m)');\n",
    "plt.ylabel('x (m)');\n",
    "lat.plot_floor(axis='equal');"
   ]
  },
  {
   "cell_type": "code",
   "execution_count": null,
   "metadata": {},
   "outputs": [],
   "source": [
    "plt.plot(G.tout_stat('mean_z'), \n",
    "         G.tout_stat('sigma_x')*1000, \n",
    "         G.screen_stat('mean_z'),\n",
    "         G.screen_stat('sigma_x')*1000,'o');\n",
    "plt.xlabel('s (m)');\n",
    "plt.ylabel('$\\sigma_x$ (mm)');"
   ]
  },
  {
   "cell_type": "code",
   "execution_count": null,
   "metadata": {},
   "outputs": [],
   "source": [
    "from gpt.bstatic import Sectormagnet\n",
    "\n",
    "gen = Generator(DISTGEN_INPUT_FILE, verbose=0)\n",
    "\n",
    "set_pz = {'type': 'set_avg pz', 'avg_pz':{'value':+1, 'units':'GeV/c'}}\n",
    "\n",
    "gen.input['transforms']={'pz':set_pz}\n",
    "gen['n_particle']=10\n",
    "gen.run()\n",
    "\n",
    "R=1\n",
    "p = gen.particles['mean_p']\n",
    "\n",
    "lat2 = Lattice('L2')\n",
    "lat2.add(Sectormagnet('b1', R, 90, p, phi_in=+45, phi_out=+45, width=0.4), ds=0.25)\n",
    "lat2.add(Screen('s1'), ds=1)\n",
    "lat2['b1']._B=0.9*(lat2['b1']._B)\n",
    "lat2.write_gpt_lines(output_file='gpt.temp.in')\n",
    "\n",
    "with open('gpt.temp.in','a') as fid:\n",
    "    fid.write('zminmax(\"b1_ccs_end\", 0,0,0, 1,0,0, 0,1,0, -1, 1.1);\\n')\n",
    "    \n",
    "G = GPT(input_file='gpt.temp.in', initial_particles=gen.particles)\n",
    "G.set_variable('space_charge',0)\n",
    "G.set_variable('tmax',1.2e-8)\n",
    "G.run()"
   ]
  },
  {
   "cell_type": "code",
   "execution_count": null,
   "metadata": {},
   "outputs": [],
   "source": [
    "plt.plot(G.tout_stat('mean_z'), G.tout_stat('mean_x'), 'b')\n",
    "plt.xlabel('z (m)');\n",
    "plt.ylabel('x (m)');\n",
    "lat2.plot_floor(axis='equal');\n",
    "\n",
    "print('Screen s:',lat2[-1].s_beg)\n",
    "print('Screen s error:', 100*(G.screen_stat('mean_z')-lat2[-1].s_beg)/lat2[-1].s_beg, '%')\n",
    "print('avg_x:', G.stat('mean_x','screen'))\n",
    "\n",
    "z = G.stat('mean_z', 'tout')\n",
    "x = G.stat('mean_x', 'tout')\n",
    "\n",
    "xscreen = G.stat('mean_x','screen')\n",
    "xtout = -(np.interp(2, x, z)-1.25)\n",
    "\n",
    "print('Screen x position error:', 100*(xscreen-xtout)/xtout, '%')"
   ]
  },
  {
   "cell_type": "code",
   "execution_count": null,
   "metadata": {},
   "outputs": [],
   "source": [
    "lat2.write_gpt_lines(output_file='gpt.temp.in')\n",
    "\n",
    "G = GPT(input_file='gpt.temp.in', initial_particles=gen.particles, ccs_beg=lat2['b1'].ccs_end)\n",
    "G.set_variable('space_charge',0)\n",
    "G.set_variable('tmax',1.2e-8)\n",
    "G.run()\n",
    "\n",
    "lat2.plot_floor(axis='equal');\n",
    "\n",
    "plt.plot(G.stat('mean_z','tout'), G.stat('mean_x','tout'), 'b')\n",
    "plt.xlabel('z (m)');\n",
    "plt.ylabel('x (m)');\n"
   ]
  },
  {
   "cell_type": "code",
   "execution_count": null,
   "metadata": {},
   "outputs": [],
   "source": [
    "os.remove('gpt.temp.in');"
   ]
  },
  {
   "cell_type": "code",
   "execution_count": null,
   "metadata": {},
   "outputs": [],
   "source": []
  }
 ],
 "metadata": {
  "kernelspec": {
   "display_name": "Python 3 (ipykernel)",
   "language": "python",
   "name": "python3"
  },
  "language_info": {
   "codemirror_mode": {
    "name": "ipython",
    "version": 3
   },
   "file_extension": ".py",
   "mimetype": "text/x-python",
   "name": "python",
   "nbconvert_exporter": "python",
   "pygments_lexer": "ipython3",
   "version": "3.12.1"
  }
 },
 "nbformat": 4,
 "nbformat_minor": 4
}
