{
 "cells": [
  {
   "cell_type": "code",
   "execution_count": 1,
   "metadata": {},
   "outputs": [],
   "source": [
    "# Useful for debugging\n",
    "%load_ext autoreload\n",
    "%autoreload 2\n",
    "%matplotlib inline\n",
    "%config InlineBackend.figure_format = 'retina'\n",
    "\n",
    "import numpy as np\n",
    "from matplotlib import pyplot as plt"
   ]
  },
  {
   "cell_type": "code",
   "execution_count": 2,
   "metadata": {},
   "outputs": [],
   "source": [
    "from gpt.maps import Map25D_TM\n",
    "\n",
    "cav = Map25D_TM('cav_7_cell', 'fields/7cell_2D.gdf', frequency=1.3e9, scale=1)\n",
    "#G = cav.track_on_axis(t=0, p=1e6, n_screen=200, GBacc=8)\n",
    "\n",
    "#fig, ax = plt.subplots(1, 3, sharex='col', constrained_layout=True, figsize=(12,4))\n",
    "\n",
    "#cav.plot_field_profile(ax=ax[0])\n",
    "#cav.plot_floor(ax=ax[1])\n",
    "\n",
    "#ax[1].plot(G.stat('mean_z','screen'), G.stat('mean_x', 'screen'));\n",
    "#ax[1].plot(G.stat('mean_z','screen')[0], G.stat('mean_x', 'screen')[0], 'og');\n",
    "#ax[1].plot(G.stat('mean_z','screen')[-1], G.stat('mean_x', 'screen')[-1], 'or');\n",
    "#ax[1].set_title('Single Particle Tracking')\n",
    "\n",
    "#ax[2].plot(G.stat('mean_z','screen'), G.stat('mean_energy', 'screen')-G.screen[0]['mean_energy']);\n",
    "#ax[2].set_xlabel('z (m)');\n",
    "#ax[2].set_ylabel('$\\Delta E$ (eV)');\n",
    "#ax[2].set_title('Single Particle Tracking: Energy Gain');"
   ]
  },
  {
   "cell_type": "code",
   "execution_count": 3,
   "metadata": {},
   "outputs": [],
   "source": [
    "#p=10e6\n",
    "#cav._scale=1e6\n",
    "#cav._relative_phase=-90\n",
    "\n",
    "#%time G=cav.autophase(t=0, p=p, n_screen=200, GBacc=8.5)\n",
    "#plt.plot(G.screen_stat('mean_z'), \n",
    "#         (G.screen_stat('mean_energy')-G.screen[0]['mean_energy'])/1e6);\n",
    "#plt.xlabel('z (m)');\n",
    "#plt.ylabel('$\\Delta E$ (MeV)');"
   ]
  },
  {
   "cell_type": "code",
   "execution_count": null,
   "metadata": {},
   "outputs": [],
   "source": []
  }
 ],
 "metadata": {
  "kernelspec": {
   "display_name": "Python 3 (ipykernel)",
   "language": "python",
   "name": "python3"
  },
  "language_info": {
   "codemirror_mode": {
    "name": "ipython",
    "version": 3
   },
   "file_extension": ".py",
   "mimetype": "text/x-python",
   "name": "python",
   "nbconvert_exporter": "python",
   "pygments_lexer": "ipython3",
   "version": "3.12.1"
  }
 },
 "nbformat": 4,
 "nbformat_minor": 4
}
