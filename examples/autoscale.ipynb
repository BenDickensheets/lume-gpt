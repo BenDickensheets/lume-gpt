{
 "cells": [
  {
   "cell_type": "code",
   "execution_count": 1,
   "metadata": {},
   "outputs": [],
   "source": [
    "# Useful for debugging\n",
    "%load_ext autoreload\n",
    "%autoreload 2\n",
    "\n",
    "from matplotlib import pyplot as plt\n",
    "import matplotlib \n",
    "\n",
    "%matplotlib inline\n",
    "%config InlineBackend.figure_format = 'retina'\n",
    "\n",
    "import sys, os\n",
    "root = os.path.join(os.getcwd(), '../')\n",
    "sys.path.append(root)\n",
    "\n",
    "import numpy as np\n",
    "import math\n",
    "\n",
    "DISTGEN_INPUT_FILE = os.path.join(root, 'templates/sectormagnet/distgen.in.yaml')"
   ]
  },
  {
   "cell_type": "code",
   "execution_count": 2,
   "metadata": {},
   "outputs": [],
   "source": [
    "from distgen import Generator\n",
    "gen = Generator(DISTGEN_INPUT_FILE, verbose=0)\n",
    "gen.run()"
   ]
  },
  {
   "cell_type": "code",
   "execution_count": 67,
   "metadata": {},
   "outputs": [
    {
     "name": "stdout",
     "output_type": "stream",
     "text": [
      "Lattice: L2\n",
      "s-start: 0 m.\n",
      "s-stop: 2.8207963267948966\n",
      "\n",
      "Name: beg\n",
      "Type: lattice starting element\n",
      "s-entrance: 0 m.\n",
      "s-exit: 0 m.\n",
      "Length: 0\n",
      "Width: 0 m.\n",
      "\n",
      "Name: b1\n",
      "Type: Sectormagnet\n",
      "s-entrance: 0.25 m.\n",
      "s-exit: 1.8207963267948966 m.\n",
      "Length: 1.5707963267948966\n",
      "Width: 0.4 m.\n",
      "Radius: 1 m.\n",
      "phi_in: 45 deg.\n",
      "phi_out: 45 deg.\n",
      "CCS into dipole: \"wcs\"\n",
      "\n",
      "Name: s1\n",
      "Type: screen\n",
      "s-entrance: 2.8207963267948966 m.\n",
      "s-exit: 2.8207963267948966 m.\n",
      "Length: 0\n",
      "Width: 0.2 m.\n"
     ]
    }
   ],
   "source": [
    "from gpt.element import Lattice, Screen\n",
    "from gpt.bstatic import Sectormagnet\n",
    "\n",
    "R=1\n",
    "p = gen.particles['mean_p']\n",
    "\n",
    "lat = Lattice('L2')\n",
    "lat.add(Sectormagnet('b1', R, 90, p, phi_in=+45, phi_out=+45, width=0.4), ds=0.25)\n",
    "lat.add(Screen('s1'), ds=1)\n",
    "\n",
    "print(lat)"
   ]
  },
  {
   "cell_type": "code",
   "execution_count": 78,
   "metadata": {},
   "outputs": [
    {
     "name": "stdout",
     "output_type": "stream",
     "text": [
      "0.25\n"
     ]
    }
   ],
   "source": [
    "from gpt.autoscale import autoscale_lattice\n",
    "\n",
    "runs = autoscale_lattice(lat, initial_particles = gen.particles);\n",
    "\n",
    "print(runs[-1].screen[-1]['mean_z'])"
   ]
  },
  {
   "cell_type": "code",
   "execution_count": 74,
   "metadata": {},
   "outputs": [
    {
     "name": "stdout",
     "output_type": "stream",
     "text": [
      "Lattice: L2\n",
      "s-start: 0 m.\n",
      "s-stop: 2.8207963267948966\n",
      "\n",
      "Name: beg\n",
      "Type: lattice starting element\n",
      "s-entrance: 0 m.\n",
      "s-exit: 0 m.\n",
      "Length: 0\n",
      "Width: 0 m.\n",
      "\n",
      "Name: b1\n",
      "Type: Sectormagnet\n",
      "s-entrance: 0.25 m.\n",
      "s-exit: 1.8207963267948966 m.\n",
      "Length: 1.5707963267948966\n",
      "Width: 0.4 m.\n",
      "Radius: 1 m.\n",
      "phi_in: 45 deg.\n",
      "phi_out: 45 deg.\n",
      "CCS into dipole: \"wcs\"\n",
      "\n",
      "Name: s1\n",
      "Type: screen\n",
      "s-entrance: 2.8207963267948966 m.\n",
      "s-exit: 2.8207963267948966 m.\n",
      "Length: 0\n",
      "Width: 0.2 m.\n"
     ]
    }
   ],
   "source": [
    "lat.sort()\n",
    "\n",
    "print(lat)"
   ]
  },
  {
   "cell_type": "code",
   "execution_count": null,
   "metadata": {},
   "outputs": [],
   "source": []
  }
 ],
 "metadata": {
  "kernelspec": {
   "display_name": "Python 3",
   "language": "python",
   "name": "python3"
  },
  "language_info": {
   "codemirror_mode": {
    "name": "ipython",
    "version": 3
   },
   "file_extension": ".py",
   "mimetype": "text/x-python",
   "name": "python",
   "nbconvert_exporter": "python",
   "pygments_lexer": "ipython3",
   "version": "3.8.5"
  }
 },
 "nbformat": 4,
 "nbformat_minor": 4
}
