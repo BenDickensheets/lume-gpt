{
 "cells": [
  {
   "cell_type": "code",
   "execution_count": 1,
   "metadata": {},
   "outputs": [],
   "source": [
    "# Useful for debugging\n",
    "%load_ext autoreload\n",
    "%autoreload 2\n",
    "%config InlineBackend.figure_format = 'retina'\n",
    "import numpy as np\n",
    "from matplotlib import pyplot as plt\n",
    "import os"
   ]
  },
  {
   "cell_type": "code",
   "execution_count": 24,
   "metadata": {},
   "outputs": [
    {
     "data": {
      "text/plain": [
       "['cav1_scale = 1;',\n",
       " 'cav1_oncrest_phase = 0;',\n",
       " 'cav1_relative_phase = 0;',\n",
       " 'cav1_phase = (cav1_oncrest_phase + cav1_relative_phase)*pi/180;',\n",
       " 'cav1_gamma = 1;',\n",
       " 'phasing_amplitude_0 = cav1_scale;',\n",
       " 'phasing_on_crest_0  = cav1_oncrest_phase;',\n",
       " 'phasing_relative_0  = cav1_relative_phase;',\n",
       " 'phasing_gamma_0 = cav1_gamma;',\n",
       " 'cav1_frequency = 1300000000.0;',\n",
       " 'Map25D_TM(\"wcs\", 0, 0, 0, 1, 0, 0, 0, 1, 0, \"/Users/colwyngulliford/Documents/GitHub/lume-gpt/templates/cu_injector/fields/buncher_CTB.gdf\", \"Z\", \"Ez\", \"R\", \"Er\", \"H\", cav1_scale, 0, cav1_phase, 2*pi*cav1_frequency);']"
      ]
     },
     "execution_count": 24,
     "metadata": {},
     "output_type": "execute_result"
    }
   ],
   "source": [
    "# Map25D_TM(\"wcs\", x, y, z, 1,0,0, 0,1,0,\"gdf.gdf\", \"R\", \"Z\", \"Er\", \"Ez\", \"H\", scale, k, phase, w);\n",
    "\n",
    "from gpt.field_map import Map25D_TM\n",
    "\n",
    "gdffile = \"/Users/colwyngulliford/Documents/GitHub/lume-gpt/templates/cu_injector/fields/buncher_CTB.gdf\"\n",
    "column_names={'R':'r', 'Z':'z', 'Er':'Er', 'Ez':'Ez', 'H':'Bphi'}\n",
    "\n",
    "cav = Map25D_TM(gdffile, column_names=column_names, frequency=1.3e9);\n",
    "cav.gpt_lines('cav1', user_vars=['scale','frequency'], auto_phase_index=0)"
   ]
  },
  {
   "cell_type": "code",
   "execution_count": null,
   "metadata": {},
   "outputs": [],
   "source": [
    "\n"
   ]
  }
 ],
 "metadata": {
  "kernelspec": {
   "display_name": "Python 3",
   "language": "python",
   "name": "python3"
  },
  "language_info": {
   "codemirror_mode": {
    "name": "ipython",
    "version": 3
   },
   "file_extension": ".py",
   "mimetype": "text/x-python",
   "name": "python",
   "nbconvert_exporter": "python",
   "pygments_lexer": "ipython3",
   "version": "3.6.10"
  }
 },
 "nbformat": 4,
 "nbformat_minor": 4
}
