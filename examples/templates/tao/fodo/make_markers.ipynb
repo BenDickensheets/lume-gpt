{
 "cells": [
  {
   "cell_type": "code",
   "execution_count": 10,
   "id": "5c098450-279e-4ab2-8d09-936b1b0e8b13",
   "metadata": {},
   "outputs": [],
   "source": [
    "import numpy as np\n",
    "from pytao.misc.markers import make_markers\n",
    "from pytao import Tao"
   ]
  },
  {
   "cell_type": "code",
   "execution_count": 11,
   "id": "f212ef2c-efa3-4232-a2bb-eb5349148d5a",
   "metadata": {},
   "outputs": [],
   "source": [
    "tao = Tao('-lat fodo.bmad -noplot')"
   ]
  },
  {
   "cell_type": "code",
   "execution_count": 12,
   "id": "50b40775-dcda-4049-894e-cf33cc201f6c",
   "metadata": {},
   "outputs": [],
   "source": [
    "smax = tao.lat_list('*', who='ele.s').max()\n",
    "slist = np.linspace(0, smax, 500)"
   ]
  },
  {
   "cell_type": "code",
   "execution_count": 15,
   "id": "8549a270-667d-46a4-8e3c-ba773cf77107",
   "metadata": {},
   "outputs": [],
   "source": [
    "make_markers(slist, 'markers.bmad');"
   ]
  },
  {
   "cell_type": "code",
   "execution_count": 16,
   "id": "93504737-ba89-4486-bdaf-1488039c0c26",
   "metadata": {},
   "outputs": [
    {
     "data": {
      "text/plain": [
       "71"
      ]
     },
     "execution_count": 16,
     "metadata": {},
     "output_type": "execute_result"
    }
   ],
   "source": [
    "LAT = f\"\"\"\n",
    "\n",
    "call, file = fodo.bmad\n",
    "call, file = markers.bmad\n",
    "\n",
    "use, FODO_CHANNEL\n",
    "\n",
    "\"\"\"\n",
    "open('fodo.lat.bmad', 'w').write(LAT)"
   ]
  },
  {
   "cell_type": "code",
   "execution_count": 18,
   "id": "16c2c728-fa8d-4fd6-8d55-dd8ad5770e8f",
   "metadata": {},
   "outputs": [],
   "source": [
    "tao = Tao('-lat fodo.lat.bmad -noplot')"
   ]
  },
  {
   "cell_type": "code",
   "execution_count": null,
   "id": "036c2009-1c7b-48b4-99e7-0e90706c9fe9",
   "metadata": {},
   "outputs": [],
   "source": []
  }
 ],
 "metadata": {
  "kernelspec": {
   "display_name": "Python 3 (ipykernel)",
   "language": "python",
   "name": "python3"
  },
  "language_info": {
   "codemirror_mode": {
    "name": "ipython",
    "version": 3
   },
   "file_extension": ".py",
   "mimetype": "text/x-python",
   "name": "python",
   "nbconvert_exporter": "python",
   "pygments_lexer": "ipython3",
   "version": "3.11.5"
  }
 },
 "nbformat": 4,
 "nbformat_minor": 5
}
