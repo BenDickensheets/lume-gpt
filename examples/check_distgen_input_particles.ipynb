{
 "cells": [
  {
   "cell_type": "code",
   "execution_count": 1,
   "id": "5aa23b84-5b19-4c11-a887-3b524c6e66ba",
   "metadata": {},
   "outputs": [],
   "source": [
    "# Useful for debugging\n",
    "%load_ext autoreload\n",
    "%autoreload 2\n",
    "\n",
    "from matplotlib import pyplot as plt\n",
    "import numpy as np\n",
    "import yaml\n",
    "from copy import deepcopy\n",
    "from scipy.constants import physical_constants\n",
    "from scipy.interpolate import griddata\n",
    "from scipy.integrate import quad as quadint\n",
    "from pmd_beamphysics import ParticleGroup\n",
    "import os\n",
    "\n",
    "e0 = physical_constants['vacuum electric permittivity'][0]\n",
    "\n",
    "%matplotlib inline\n",
    "%config InlineBackend.figure_format = 'retina'"
   ]
  },
  {
   "cell_type": "markdown",
   "id": "b0c3dab7-20c4-467e-9ae0-9a5b5d84865c",
   "metadata": {},
   "source": [
    "# Makes Sure Particles from distgen look good"
   ]
  },
  {
   "cell_type": "code",
   "execution_count": null,
   "id": "b29410f0-cd66-42b2-b434-db8c86fdfbfc",
   "metadata": {},
   "outputs": [],
   "source": []
  }
 ],
 "metadata": {
  "kernelspec": {
   "display_name": "Python 3 (ipykernel)",
   "language": "python",
   "name": "python3"
  },
  "language_info": {
   "codemirror_mode": {
    "name": "ipython",
    "version": 3
   },
   "file_extension": ".py",
   "mimetype": "text/x-python",
   "name": "python",
   "nbconvert_exporter": "python",
   "pygments_lexer": "ipython3",
   "version": "3.10.5"
  }
 },
 "nbformat": 4,
 "nbformat_minor": 5
}
