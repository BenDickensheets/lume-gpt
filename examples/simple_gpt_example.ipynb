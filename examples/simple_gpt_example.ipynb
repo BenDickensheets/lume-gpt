{
 "cells": [
  {
   "cell_type": "code",
   "execution_count": 1,
   "metadata": {},
   "outputs": [],
   "source": [
    "# Useful for debugging\n",
    "%load_ext autoreload\n",
    "%autoreload 2"
   ]
  },
  {
   "cell_type": "markdown",
   "metadata": {},
   "source": [
    "# Simple GPT example\n",
    "----\n",
    "This example shows the basic usage of the LUME-GPT class object used to drive GPT simulations from Python.  Typically, the first step in using a GPT object is setting up a template directory.  This directory should include the GPT input file (typically 'gpt.in') and a folder (typically named 'fields') where any field maps shoule be stored.  Here the template directory is 'lume-gpt/templates/dcgun'.  This example includes an GPT file with a dcgun followed by a solenoid, both modeled by field maps.  A static input particle GDF files is also included.  Later, creating a distribution on the fly is discussed."
   ]
  },
  {
   "cell_type": "code",
   "execution_count": 2,
   "metadata": {},
   "outputs": [],
   "source": [
    "import sys, os\n",
    "root = os.path.join(os.getcwd(), '../')\n",
    "sys.path.append(root)\n",
    "\n",
    "INPUT_FILE = os.path.join(root,'templates/dcgun/gpt.in')\n",
    "\n",
    "from gpt import GPT"
   ]
  },
  {
   "cell_type": "markdown",
   "metadata": {},
   "source": [
    "Initialization  of the GPT object requires providing a gpt input filename, among other possible inputs."
   ]
  },
  {
   "cell_type": "code",
   "execution_count": 3,
   "metadata": {},
   "outputs": [
    {
     "name": "stdout",
     "output_type": "stream",
     "text": [
      "GPT.configure_gpt:\n",
      "   Original input file \"gpt.in\" in \"/Users/colwyngulliford/Documents/GitHub/lume-gpt/templates/dcgun\"\n",
      "   Configured to run in \"/var/folders/t8/f3n1sdnn1jg0wfbpqfm1hsh80000gn/T/tmppcyh9azi\"\n"
     ]
    }
   ],
   "source": [
    "G = GPT(input_file=INPUT_FILE, verbose=True)"
   ]
  },
  {
   "cell_type": "markdown",
   "metadata": {},
   "source": [
    "The GPT object is configured to run on initialization.  Unless specified, the simulation set to run in a temporay directory, as can be seen above.  At this point the GPT file in template directory has been read in and variables lines of the form \"name = value;\" have been loaded into G.input['variables']:"
   ]
  },
  {
   "cell_type": "code",
   "execution_count": 4,
   "metadata": {},
   "outputs": [
    {
     "data": {
      "text/plain": [
       "{'data_dump': 0.0,\n",
       " 'Master_RF': 1300000000.0,\n",
       " 'MTE': 120.0,\n",
       " 'gun_voltage': 300.0,\n",
       " 'sol_1_current': 3.32107,\n",
       " 'auto_phase': 0.0,\n",
       " 'single_particle': 0.0,\n",
       " 'space_charge': 1.0,\n",
       " 'space_charge_type': 1.0,\n",
       " 'viewscreens_on': 1.0,\n",
       " 'kill_backwards_particles': 1.0,\n",
       " 'optimize_on': 0.0,\n",
       " 'xoffset': 0.0,\n",
       " 'yoffset': 0.0,\n",
       " 'RadiusMax': 0.04,\n",
       " 'GBacc': 5.5,\n",
       " 'xacc': 6.5,\n",
       " 'dtmin': 1e-16,\n",
       " 'dtmax': 1e-10,\n",
       " 'ZSLA01': 0.344,\n",
       " 'ZCTB01': 0.746,\n",
       " 'ZSLA02': 1.16,\n",
       " 'Zdcgun': 0.15,\n",
       " 'Maxdcgun': 500.0,\n",
       " 'SLAPolarity': -1.0,\n",
       " 'LSLA01': 0.6,\n",
       " 'XSLA01': 0.0,\n",
       " 'YSLA01': 0.0,\n",
       " 'THXSLA01': 0.0,\n",
       " 'IA1SDR01_z': 0.922,\n",
       " 'ZSTOP': 1.5,\n",
       " 'Alpha': 1.0,\n",
       " 'Fn': 0.5,\n",
       " 'verror': 0.005,\n",
       " 'Nstd': 5.0,\n",
       " 'tree_code_theta': 1.0,\n",
       " 'tree_code_R': 1e-06,\n",
       " 'Ntout': 50.0,\n",
       " 'tmax': 1e-08,\n",
       " 'ZSTART': -0.005}"
      ]
     },
     "execution_count": 4,
     "metadata": {},
     "output_type": "execute_result"
    }
   ],
   "source": [
    "G.input['variables']"
   ]
  },
  {
   "cell_type": "markdown",
   "metadata": {},
   "source": [
    "These represent all variables in the input file that can have value replacements substituted into the final gpt file used to run the simulation.  Replacements are handled by passing in a dictionary of names and values to GPT.set_variables(settings).  The function returns a dictionary of names and booleans if the variable replace was successful (a False value typically indicates the variables was not found in the input file):  "
   ]
  },
  {
   "cell_type": "code",
   "execution_count": 5,
   "metadata": {},
   "outputs": [
    {
     "name": "stdout",
     "output_type": "stream",
     "text": [
      "{'gun_voltage': True, 'sol_1_current': True}\n"
     ]
    }
   ],
   "source": [
    "variables_were_set = G.set_variables({'gun_voltage':375,'sol_1_current':-3})\n",
    "print(variables_were_set)"
   ]
  },
  {
   "cell_type": "markdown",
   "metadata": {},
   "source": [
    "To run the GPT simulation, with the above variable replacements made, simply call GPT.run():"
   ]
  },
  {
   "cell_type": "code",
   "execution_count": 6,
   "metadata": {},
   "outputs": [
    {
     "name": "stdout",
     "output_type": "stream",
     "text": [
      "GPT.run_gpt:\n",
      "   Running GPT...\n",
      "   Writing gpt input file to \"/var/folders/t8/f3n1sdnn1jg0wfbpqfm1hsh80000gn/T/tmppcyh9azi/gpt.in\"\n",
      "Warning: unknown option -j1\n",
      "Warning: unknown option -1\n",
      "\n",
      "General Particle Tracer - Oct 28 2014\n",
      "   Loading GPT data from /var/folders/t8/f3n1sdnn1jg0wfbpqfm1hsh80000gn/T/tmppcyh9azi/gpt.out.gdf\n",
      "   GDF data loaded, time ellapsed: 0.0333111 (sec).\n",
      "   Converting tout and screen data to ParticleGroup(s)\n",
      "   Run finished, total time ellapsed: 1.69026 (sec)\n"
     ]
    }
   ],
   "source": [
    "G.run()"
   ]
  },
  {
   "cell_type": "markdown",
   "metadata": {},
   "source": [
    "This causes the GPT to run and the output data loaded into the GPT object.  Important data is stored in the GPT.output dictionary.  The raw screen and tout data is stored in G.screen and G.tout respectively.  The general info of the object and run can be printed using print(GPT):"
   ]
  },
  {
   "cell_type": "code",
   "execution_count": 7,
   "metadata": {},
   "outputs": [
    {
     "name": "stdout",
     "output_type": "stream",
     "text": [
      "dict_keys(['particles', 'start_time', 'run_time', 'run_error'])\n",
      "number of touts: 32\n",
      "number of screens: 1\n",
      "\n",
      "GPT object:\n",
      "   Original input file: gpt.in\n",
      "   Template location: /Users/colwyngulliford/Documents/GitHub/lume-gpt/templates/dcgun\n",
      "   Use temp directory: True\n",
      "\n",
      "Run Control\n",
      "   Run configured: True\n",
      "   Work location: /var/folders/t8/f3n1sdnn1jg0wfbpqfm1hsh80000gn/T/tmppcyh9azi\n",
      "   Timeout: None (sec)\n",
      "\n",
      "Results\n",
      "   Finished: True\n",
      "   Error occured: False\n",
      "   Run time: 1.6902589797973633 (sec)\n"
     ]
    }
   ],
   "source": [
    "print(G.output.keys())\n",
    "print('number of touts:',G.n_tout)\n",
    "print('number of screens:', G.n_screen)\n",
    "\n",
    "# Info\n",
    "print(G)"
   ]
  },
  {
   "cell_type": "code",
   "execution_count": 8,
   "metadata": {},
   "outputs": [
    {
     "data": {
      "text/plain": [
       "'f7cd80d35b1b455dd8fa33daeb12128e'"
      ]
     },
     "execution_count": 8,
     "metadata": {},
     "output_type": "execute_result"
    }
   ],
   "source": [
    "# Unique fingerprint based on input\n",
    "G.fingerprint()"
   ]
  },
  {
   "cell_type": "markdown",
   "metadata": {},
   "source": [
    "# Accessing Particle Data\n",
    "The tout and screen data is automatically loaded into a single array of PMD Beam Physics ParticleGroups in `GPT.output['particles']`. Touts come first in the array, followed by screens. This data can be accessed by using the convenience functions: `GPT.particles`, `GPT.tout` and `GPT.screen`, which return the corresponding list of ParticleGroups:"
   ]
  },
  {
   "cell_type": "code",
   "execution_count": 9,
   "metadata": {},
   "outputs": [
    {
     "name": "stdout",
     "output_type": "stream",
     "text": [
      "Total number of particle groups: 33\n",
      "Number of touts: 32\n",
      "Number of screens: 1\n"
     ]
    }
   ],
   "source": [
    "allp = G.particles\n",
    "print('Total number of particle groups:',len(allp))\n",
    "\n",
    "touts = G.tout\n",
    "print('Number of touts:',len(touts))\n",
    "\n",
    "screens = G.screen\n",
    "print('Number of screens:',len(screens))"
   ]
  },
  {
   "cell_type": "markdown",
   "metadata": {},
   "source": [
    "Statistical quantities can be computed using `GPT.stat`.  Units are provided by `GPT.stat_units`."
   ]
  },
  {
   "cell_type": "code",
   "execution_count": 10,
   "metadata": {},
   "outputs": [
    {
     "name": "stdout",
     "output_type": "stream",
     "text": [
      "Normalized x emittances at all output:\n",
      " [1.74030520e-06 5.05909040e-06 9.42959863e-06 4.14775510e-06\n",
      " 4.45535914e-06 4.78537885e-06 6.04877282e-06 1.37250961e-05\n",
      " 2.36687039e-05 1.35630072e-05 6.72500649e-06 5.54286370e-06\n",
      " 5.33795109e-06 5.28033365e-06 5.26623428e-06 5.28496931e-06\n",
      " 5.31665694e-06 5.35511987e-06 5.39594978e-06 5.43613618e-06\n",
      " 5.47522119e-06 5.51203764e-06 5.54623121e-06 5.57758645e-06\n",
      " 5.60675337e-06 5.63374633e-06 5.65841850e-06 5.68083101e-06\n",
      " 5.70121776e-06 5.71991618e-06 5.73705441e-06 5.75273071e-06\n",
      " 5.39212985e-06]\n",
      "in units of [m].\n"
     ]
    }
   ],
   "source": [
    "# Some statistic that can be calculated on the particles\n",
    "print('Normalized x emittances at all output:\\n', G.stat('norm_emit_x'))\n",
    "print(f'in units of [{G.stat_units(\"norm_emit_x\")}].')"
   ]
  },
  {
   "cell_type": "markdown",
   "metadata": {},
   "source": [
    "This returns the statistical quantiy on all data (touts and screens). The statisical data for touts and screens individually can also be accessed using `GPT.stat(key, 'tout')` and `GPT.stat(key, 'screen')`:"
   ]
  },
  {
   "cell_type": "code",
   "execution_count": 11,
   "metadata": {},
   "outputs": [
    {
     "name": "stdout",
     "output_type": "stream",
     "text": [
      "Tout emittance: [1.74030520e-06 5.05909040e-06 9.42959863e-06 4.14775510e-06\n",
      " 4.45535914e-06 4.78537885e-06 6.04877282e-06 1.37250961e-05\n",
      " 2.36687039e-05 1.35630072e-05 6.72500649e-06 5.54286370e-06\n",
      " 5.33795109e-06 5.28033365e-06 5.26623428e-06 5.28496931e-06\n",
      " 5.31665694e-06 5.35511987e-06 5.39594978e-06 5.43613618e-06\n",
      " 5.47522119e-06 5.51203764e-06 5.54623121e-06 5.57758645e-06\n",
      " 5.60675337e-06 5.63374633e-06 5.65841850e-06 5.68083101e-06\n",
      " 5.70121776e-06 5.71991618e-06 5.73705441e-06 5.75273071e-06]\n",
      "Screen emittance: [5.39212985e-06]\n"
     ]
    }
   ],
   "source": [
    "print('Tout emittance:', G.stat('norm_emit_x','tout'))\n",
    "print('Screen emittance:',G.stat('norm_emit_x','screen'))"
   ]
  },
  {
   "cell_type": "markdown",
   "metadata": {},
   "source": [
    "# Plot Statistics"
   ]
  },
  {
   "cell_type": "markdown",
   "metadata": {},
   "source": [
    "Potting basic statistical data is then simple, simply requred the desired data from G.stat:"
   ]
  },
  {
   "cell_type": "code",
   "execution_count": 12,
   "metadata": {},
   "outputs": [],
   "source": [
    "from matplotlib import pyplot as plt\n",
    "import matplotlib \n",
    "\n",
    "%matplotlib inline\n",
    "%config InlineBackend.figure_format = 'retina'"
   ]
  },
  {
   "cell_type": "code",
   "execution_count": 13,
   "metadata": {},
   "outputs": [
    {
     "data": {
      "image/png": "[encoded data removed]",
      "text/plain": [
       "<Figure size 432x288 with 1 Axes>"
      ]
     },
     "metadata": {
      "image/png": {
       "height": 264,
       "width": 386
      },
      "needs_background": "light"
     },
     "output_type": "display_data"
    }
   ],
   "source": [
    "key1 = 'mean_z'\n",
    "key2 = 'norm_emit_x'\n",
    "\n",
    "# tout data\n",
    "tdat1 = G.stat(key1,'tout')\n",
    "tdat2 = G.stat(key2,'tout')\n",
    "\n",
    "# screen data\n",
    "pdat1 = G.stat(key1,'screen')\n",
    "pdat2 = G.stat(key2,'screen')\n",
    "\n",
    "units1 = G.stat_units(key1)\n",
    "units2 = G.stat_units(key2)\n",
    "\n",
    "fig, ax = plt.subplots()\n",
    "ax.plot(tdat1, tdat2*1e6, pdat1, pdat2*1e6, 'o');\n",
    "ax.set_xlabel(f'{key1} ({units1})');\n",
    "ax.set_ylabel(f'{key2} ($\\mu${units2})');\n",
    "ax.legend(['tout','screen']);"
   ]
  },
  {
   "cell_type": "markdown",
   "metadata": {},
   "source": [
    "# Particle Densities\n",
    "PMD Beam Physics has some nice built in features for plotting particle distributions.  Below is a 2d histogram with marginal plots of the last tout:"
   ]
  },
  {
   "cell_type": "code",
   "execution_count": 14,
   "metadata": {},
   "outputs": [],
   "source": [
    "from pmd_beamphysics.plot import marginal_plot"
   ]
  },
  {
   "cell_type": "code",
   "execution_count": 15,
   "metadata": {},
   "outputs": [
    {
     "data": {
      "image/png": "[encoded data removed]",
      "text/plain": [
       "<Figure size 432x288 with 3 Axes>"
      ]
     },
     "metadata": {
      "image/png": {
       "height": 263,
       "width": 391
      },
      "needs_background": "light"
     },
     "output_type": "display_data"
    }
   ],
   "source": [
    "P = G.screen[-1]\n",
    "\n",
    "marginal_plot(P, 't', 'kinetic_energy', bins=20)"
   ]
  },
  {
   "cell_type": "code",
   "execution_count": 16,
   "metadata": {},
   "outputs": [],
   "source": [
    "# Running using the run_gpt: the actions above are combined into one user function\n",
    "from gpt.gpt import run_gpt"
   ]
  },
  {
   "cell_type": "code",
   "execution_count": 17,
   "metadata": {},
   "outputs": [
    {
     "name": "stdout",
     "output_type": "stream",
     "text": [
      "run_gpt\n",
      "GPT.configure_gpt:\n",
      "   Original input file \"gpt.in\" in \"/Users/colwyngulliford/Documents/GitHub/lume-gpt/templates/dcgun\"\n",
      "   Configured to run in \"/var/folders/t8/f3n1sdnn1jg0wfbpqfm1hsh80000gn/T/tmppe1umzwu\"\n",
      "GPT.run_gpt:\n",
      "   Running GPT...\n",
      "   Writing gpt input file to \"/var/folders/t8/f3n1sdnn1jg0wfbpqfm1hsh80000gn/T/tmppe1umzwu/gpt.in\"\n",
      "   Running with timeout = 2500 sec.\n",
      "   Loading GPT data from /var/folders/t8/f3n1sdnn1jg0wfbpqfm1hsh80000gn/T/tmppe1umzwu/gpt.out.gdf\n",
      "   GDF data loaded, time ellapsed: 0.0291812 (sec).\n",
      "   Converting tout and screen data to ParticleGroup(s)\n",
      "   Run finished, total time ellapsed: 1.47896 (sec)\n"
     ]
    }
   ],
   "source": [
    "G = run_gpt(settings={'gun_voltage':375,'sol_1_current':-3},\n",
    "            gpt_input_file=INPUT_FILE,\n",
    "           verbose=True)"
   ]
  },
  {
   "cell_type": "code",
   "execution_count": 18,
   "metadata": {},
   "outputs": [
    {
     "name": "stdout",
     "output_type": "stream",
     "text": [
      "\n",
      "GPT object:\n",
      "   Original input file: gpt.in\n",
      "   Template location: /Users/colwyngulliford/Documents/GitHub/lume-gpt/templates/dcgun\n",
      "   Use temp directory: True\n",
      "\n",
      "Run Control\n",
      "   Run configured: True\n",
      "   Work location: /var/folders/t8/f3n1sdnn1jg0wfbpqfm1hsh80000gn/T/tmppe1umzwu\n",
      "   Timeout: 2500 (sec)\n",
      "\n",
      "Results\n",
      "   Finished: True\n",
      "   Error occured: False\n",
      "   Run time: 1.4789588451385498 (sec)\n"
     ]
    }
   ],
   "source": [
    "print(G)"
   ]
  },
  {
   "cell_type": "markdown",
   "metadata": {},
   "source": [
    "# Passing in a Open PMD particle group\n",
    "Here a particle group is made via Distgen and then passed into the GPT class before running.  The particle group is written to file and used by the GPT file. This allows users to run GPT simulations with break points."
   ]
  },
  {
   "cell_type": "code",
   "execution_count": 19,
   "metadata": {},
   "outputs": [
    {
     "name": "stdout",
     "output_type": "stream",
     "text": [
      "GPT.configure_gpt:\n",
      "   Original input file \"gpt.in\" in \"/Users/colwyngulliford/Documents/GitHub/lume-gpt/templates/dcgun_pmd\"\n",
      "   Configured to run in \"/var/folders/t8/f3n1sdnn1jg0wfbpqfm1hsh80000gn/T/tmp409m0m_y\"\n",
      "GPT.run_gpt:\n",
      "   Initial particles written to \"/var/folders/t8/f3n1sdnn1jg0wfbpqfm1hsh80000gn/T/tmp409m0m_y/gpt.particles.gdf\"\n",
      "   Running GPT...\n",
      "   Writing gpt input file to \"/var/folders/t8/f3n1sdnn1jg0wfbpqfm1hsh80000gn/T/tmp409m0m_y/gpt.in\"\n",
      "Warning: unknown option -j1\n",
      "Warning: unknown option -1\n",
      "\n",
      "General Particle Tracer - Oct 28 2014\n",
      "   Loading GPT data from /var/folders/t8/f3n1sdnn1jg0wfbpqfm1hsh80000gn/T/tmp409m0m_y/gpt.out.gdf\n",
      "   GDF data loaded, time ellapsed: 0.0353281 (sec).\n",
      "   Converting tout and screen data to ParticleGroup(s)\n",
      "   Run finished, total time ellapsed: 12.5024 (sec)\n",
      "\n",
      "GPT object:\n",
      "   Original input file: gpt.in\n",
      "   Template location: /Users/colwyngulliford/Documents/GitHub/lume-gpt/templates/dcgun_pmd\n",
      "   Use temp directory: True\n",
      "\n",
      "Run Control\n",
      "   Run configured: True\n",
      "   Work location: /var/folders/t8/f3n1sdnn1jg0wfbpqfm1hsh80000gn/T/tmp409m0m_y\n",
      "   Timeout: None (sec)\n",
      "\n",
      "Results\n",
      "   Finished: True\n",
      "   Error occured: False\n",
      "   Run time: 12.502376794815063 (sec)\n"
     ]
    }
   ],
   "source": [
    "from distgen.generator import Generator\n",
    "from pmd_beamphysics import ParticleGroup\n",
    "\n",
    "INPUT_FILE = os.path.join(root,'templates/dcgun_pmd/gpt.in')\n",
    "DISTGEN_INPUT_FILE = os.path.join(root,'templates/dcgun_pmd/distgen.in.yaml')\n",
    "gen = Generator(DISTGEN_INPUT_FILE)\n",
    "beam=gen.beam()\n",
    "\n",
    "P = ParticleGroup(data=beam.data())\n",
    "\n",
    "G = GPT(input_file=INPUT_FILE, initial_particles = P, verbose=True)\n",
    "G.run()\n",
    "print(G)"
   ]
  },
  {
   "cell_type": "markdown",
   "metadata": {},
   "source": [
    "# Driver functions\n",
    "---\n",
    "For ease of use the setting of variables and running of GPT is combined in several driver functions which can be used to run a GPT simulaiton.  The output of these functions is a GPT object.  \n",
    "\n",
    "# run_gpt(...)\n",
    "The simples example is run_gpt(...).  Typical use is to pass in the GPT input file and variable replacements:"
   ]
  },
  {
   "cell_type": "code",
   "execution_count": 20,
   "metadata": {},
   "outputs": [
    {
     "name": "stdout",
     "output_type": "stream",
     "text": [
      "run_gpt\n",
      "GPT.configure_gpt:\n",
      "   Original input file \"gpt.in\" in \"/Users/colwyngulliford/Documents/GitHub/lume-gpt/templates/dcgun\"\n",
      "   Configured to run in \"/var/folders/t8/f3n1sdnn1jg0wfbpqfm1hsh80000gn/T/tmp61s189l8\"\n",
      "GPT.run_gpt:\n",
      "   Running GPT...\n",
      "   Writing gpt input file to \"/var/folders/t8/f3n1sdnn1jg0wfbpqfm1hsh80000gn/T/tmp61s189l8/gpt.in\"\n",
      "   Running with timeout = 2500 sec.\n",
      "   Loading GPT data from /var/folders/t8/f3n1sdnn1jg0wfbpqfm1hsh80000gn/T/tmp61s189l8/gpt.out.gdf\n",
      "   GDF data loaded, time ellapsed: 0.0293729 (sec).\n",
      "   Converting tout and screen data to ParticleGroup(s)\n",
      "   Run finished, total time ellapsed: 1.47293 (sec)\n",
      "\n",
      "GPT object:\n",
      "   Original input file: gpt.in\n",
      "   Template location: /Users/colwyngulliford/Documents/GitHub/lume-gpt/templates/dcgun\n",
      "   Use temp directory: True\n",
      "\n",
      "Run Control\n",
      "   Run configured: True\n",
      "   Work location: /var/folders/t8/f3n1sdnn1jg0wfbpqfm1hsh80000gn/T/tmp61s189l8\n",
      "   Timeout: 2500 (sec)\n",
      "\n",
      "Results\n",
      "   Finished: True\n",
      "   Error occured: False\n",
      "   Run time: 1.4729270935058594 (sec)\n"
     ]
    }
   ],
   "source": [
    "from gpt.gpt import run_gpt\n",
    "INPUT_FILE = os.path.join(root,'templates/dcgun/gpt.in')\n",
    "G = run_gpt(settings={'gun_voltage':375,'sol_1_current':-3},\n",
    "            gpt_input_file=INPUT_FILE,\n",
    "            verbose=True)\n",
    "\n",
    "print(G)"
   ]
  },
  {
   "cell_type": "markdown",
   "metadata": {},
   "source": [
    "# run_gpt_with_distgen(...)\n",
    "It is often desirable to run GPT with Distgen as the input particle source.  This is handled by gpt.run_gpt_with_distgen(...).  Used is the same as gpt.run_gpt(), except a distgen input file (or YAML string) are required:"
   ]
  },
  {
   "cell_type": "code",
   "execution_count": 21,
   "metadata": {},
   "outputs": [
    {
     "name": "stdout",
     "output_type": "stream",
     "text": [
      "Run GPT with Distgen:\n",
      "gun_voltage is in gpt\n",
      "sol_1_current is in gpt\n",
      "Replacing param r_dist:max_r:value with value 2.5\n",
      "Replacing param total_charge:value with value 5\n",
      "Replacing param total_charge:units with value nC\n",
      "Replacing param t_dist:sigma_t:value with value 0.5\n",
      "Replacing param t_dist:sigma_t:units with value ns\n",
      "Replacing param n_particle with value 200\n",
      "Linking particle files, distgen output will point to -> \"distgen_gpt_particles.gdf\" in working directory.\n",
      "Replacing Distgen output params\n",
      "\n",
      "Distgen >------\n",
      "\n",
      "Distribution format: gpt\n",
      "Output file: /var/folders/t8/f3n1sdnn1jg0wfbpqfm1hsh80000gn/T/tmpuv21ix_x/distgen_gpt_particles.gdf\n",
      "\n",
      "Creating beam distribution....\n",
      "   Beam starting from: cathode\n",
      "   Total charge: 5 nC.\n",
      "   Number of macroparticles: 200.\n",
      "   Assuming cylindrical symmetry...\n",
      "   r distribution: radial uniform\n",
      "      min_r = 0 mm, max_r = 2.5 mm\n",
      "   theta distribution:       min_theta = 0 rad, max_theta = 6.28319 rad\n",
      "   t distribution: Super Gaussian\n",
      "      simga_t = 0.5 ns, power = INF\n",
      "   px distribution: Gaussian\n",
      "      avg_px = 0 eV/c, sigma_px = 276.857 eV/c\n",
      "   py distribution: Gaussian\n",
      "      avg_py = 0 eV/c, sigma_py = 276.857 eV/c\n",
      "   pz distribution: Gaussian\n",
      "      avg_pz = 0 eV/c, sigma_pz = 276.857 eV/c\n",
      "   Scaling sigma_x -> 1.25 mm\n",
      "   Shifting avg_x -> 0 mm\n",
      "      Setting avg_x -> 2.08167E-17 mm and sigma_x -> 1.25 mm\n",
      "   Scaling sigma_y -> 1.25 mm\n",
      "   Shifting avg_y -> 0 mm\n",
      "      Setting avg_y -> -1.11022E-16 mm and sigma_y -> 1.25 mm\n",
      "      Setting avg_z -> 0 m and sigma_z -> 0 m\n",
      "   Scaling sigma_px -> 276.857 eV/c\n",
      "   Shifting avg_px -> 0 eV/c\n",
      "      Setting avg_px -> -4.21885E-15 eV/c and sigma_px -> 276.857 eV/c\n",
      "   Scaling sigma_py -> 276.857 eV/c\n",
      "   Shifting avg_py -> 0 eV/c\n",
      "      Setting avg_py -> 9.76996E-15 eV/c and sigma_py -> 276.857 eV/c\n",
      "   Scaling sigma_pz -> 276.857 eV/c\n",
      "   Shifting avg_pz -> 0 eV/c\n",
      "      Setting avg_pz -> -2.22045E-15 eV/c and sigma_pz -> 276.857 eV/c\n",
      "   Scaling sigma_t -> 0.5 ns\n",
      "   Shifting avg_t -> 0 ns\n",
      "      Setting avg_t -> -1.51788E-17 ns and sigma_t -> 0.5 ns\n",
      "   Cathode start: fixing pz momenta to forward hemisphere\n",
      "      avg_pz -> 223.021 eV/c, sigma_pz -> 164.047 eV/c\n",
      "...done. Time Ellapsed: 36.896 ms.\n",
      "\n",
      "Printing 200 particles to \"/var/folders/t8/f3n1sdnn1jg0wfbpqfm1hsh80000gn/T/tmpuv21ix_x/distgen_gpt_particles.gdf\":    Converting file to GDF: done. Time ellapsed: 11.3511 ms.\n",
      "...done. Time ellapsed: 15.754 ms.\n",
      "------< Distgen\n",
      "\n",
      "GPT.run_gpt:\n",
      "   Running GPT...\n",
      "   Writing gpt input file to \"/var/folders/t8/f3n1sdnn1jg0wfbpqfm1hsh80000gn/T/tmpuv21ix_x/gpt.in\"\n",
      "   Running with timeout = 2500 sec.\n",
      "   Loading GPT data from /var/folders/t8/f3n1sdnn1jg0wfbpqfm1hsh80000gn/T/tmpuv21ix_x/gpt.out.gdf\n",
      "   GDF data loaded, time ellapsed: 0.0289311 (sec).\n",
      "   Converting tout and screen data to ParticleGroup(s)\n",
      "   Run finished, total time ellapsed: 6.99871 (sec)\n",
      "\n",
      "GPT object:\n",
      "   Original input file: gpt.in\n",
      "   Template location: /Users/colwyngulliford/Documents/GitHub/lume-gpt/templates/dcgun_distgen\n",
      "   Use temp directory: True\n",
      "\n",
      "Run Control\n",
      "   Run configured: True\n",
      "   Work location: /var/folders/t8/f3n1sdnn1jg0wfbpqfm1hsh80000gn/T/tmpuv21ix_x\n",
      "   Timeout: 2500 (sec)\n",
      "\n",
      "Results\n",
      "   Finished: True\n",
      "   Error occured: False\n",
      "   Run time: 6.998711824417114 (sec)\n"
     ]
    }
   ],
   "source": [
    "from gpt.gpt_distgen import run_gpt_with_distgen\n",
    "GPT_INPUT_FILE = os.path.join(root,'templates/dcgun_distgen/gpt.in')\n",
    "DISTGEN_INPUT_FILE = os.path.join(root,'templates/dcgun_distgen/distgen.in.yaml')\n",
    "\n",
    "settings = {'gun_voltage':500,\n",
    "            'sol_1_current':-4.5,\n",
    "            'r_dist:max_r:value':2.5,\n",
    "            'total_charge:value':5,\n",
    "            'total_charge:units': 'nC',\n",
    "            't_dist:sigma_t:value': '0.5',\n",
    "            't_dist:sigma_t:units': 'ns',\n",
    "            'n_particle':200}\n",
    "\n",
    "G = run_gpt_with_distgen(settings=settings,\n",
    "                         gpt_input_file=GPT_INPUT_FILE,\n",
    "                         distgen_input_file=DISTGEN_INPUT_FILE,\n",
    "                         verbose=True)\n",
    "\n",
    "print(G)"
   ]
  },
  {
   "cell_type": "markdown",
   "metadata": {},
   "source": [
    "To verify this worked, inspect the initial particle distribution:"
   ]
  },
  {
   "cell_type": "code",
   "execution_count": 22,
   "metadata": {},
   "outputs": [],
   "source": [
    "# Plot initial particle distribution\n",
    "import numpy as np\n",
    "from gpt.parsers import read_particle_gdf_file\n",
    "particles=read_particle_gdf_file(os.path.join(G.tempdir.name,'distgen_gpt_particles.gdf'))"
   ]
  },
  {
   "cell_type": "code",
   "execution_count": 23,
   "metadata": {},
   "outputs": [
    {
     "data": {
      "image/png": "[encoded data removed]",
      "text/plain": [
       "<Figure size 432x288 with 1 Axes>"
      ]
     },
     "metadata": {
      "image/png": {
       "height": 263,
       "width": 266
      },
      "needs_background": "light"
     },
     "output_type": "display_data"
    }
   ],
   "source": [
    "plt.figure()\n",
    "plt.plot(1000*particles['x'],1000*particles['y'],'*')\n",
    "plt.gca().set_aspect('equal', adjustable='box')\n",
    "plt.xlabel('x (mm)')\n",
    "plt.ylabel('y (mm)')\n",
    "plt.show()"
   ]
  },
  {
   "cell_type": "code",
   "execution_count": 24,
   "metadata": {},
   "outputs": [
    {
     "data": {
      "image/png": "[encoded data removed]",
      "text/plain": [
       "<Figure size 432x288 with 1 Axes>"
      ]
     },
     "metadata": {
      "image/png": {
       "height": 263,
       "width": 381
      },
      "needs_background": "light"
     },
     "output_type": "display_data"
    }
   ],
   "source": [
    "tavgz = G.stat('mean_z','tout')\n",
    "tstdx = 1000*G.stat('sigma_x','tout')\n",
    "tstdy = 1000*G.stat('sigma_y','tout')\n",
    "\n",
    "pavgz = G.stat('mean_z','screen')\n",
    "pstdx = 1000*G.stat('sigma_x','screen')\n",
    "pstdy = 1000*G.stat('sigma_y','screen')\n",
    "\n",
    "fig, ax = plt.subplots()\n",
    "ax.plot(tavgz, tstdx, pavgz, pstdx, 'o', color='#1f77b4')\n",
    "ax.plot(tavgz, tstdy, pavgz, pstdy, 'o', color='#ff7f0e')\n",
    "ax.legend(['$\\sigma_x$ tout','$\\sigma_x$ screen','$\\sigma_y$ tout','$\\sigma_y$ screen']);\n",
    "  \n",
    "plt.xlabel('s (m)')\n",
    "plt.ylabel('$\\sigma_{x,y}$ (mm)')\n",
    "plt.show()"
   ]
  },
  {
   "cell_type": "markdown",
   "metadata": {},
   "source": [
    "# Using the Evaluate method\n",
    "The xopt optimization software requires an evaluation function to be run with GPT.  A basic evaluation function is provided by gpt.evaluate:"
   ]
  },
  {
   "cell_type": "code",
   "execution_count": 25,
   "metadata": {},
   "outputs": [],
   "source": [
    "from gpt.evaluate import evaluate\n",
    "\n",
    "result = evaluate(settings,\n",
    "                  simulation='gpt_with_distgen',\n",
    "                  gpt_input_file=GPT_INPUT_FILE,\n",
    "                  distgen_input_file=DISTGEN_INPUT_FILE,\n",
    "                  verbose=False)"
   ]
  },
  {
   "cell_type": "code",
   "execution_count": 26,
   "metadata": {},
   "outputs": [
    {
     "data": {
      "text/plain": [
       "{'error': False,\n",
       " 'end_n_particle': 200,\n",
       " 'end_norm_emit_x': 9.331576773522161e-06,\n",
       " 'end_norm_emit_y': 9.322258886773315e-06,\n",
       " 'end_higher_order_energy_spread': 495.9338061375839,\n",
       " 'end_mean_x': 1.3211788079585749e-05,\n",
       " 'end_sigma_x': 0.003779692822921604,\n",
       " 'end_min_x': -0.007797336119592688,\n",
       " 'end_max_x': 0.007994768095368697,\n",
       " 'end_mean_y': 7.06892152352025e-06,\n",
       " 'end_sigma_y': 0.003681334666743728,\n",
       " 'end_min_y': -0.00755504394409482,\n",
       " 'end_max_y': 0.007232971291394084,\n",
       " 'end_mean_z': 1.5000000000000002,\n",
       " 'end_sigma_z': 2.3707876222259364e-16,\n",
       " 'end_min_z': 1.4999999999999998,\n",
       " 'end_max_z': 1.5000000000000002,\n",
       " 'end_mean_r': 0.004907680272791965,\n",
       " 'end_sigma_r': 0.0019373181528232768,\n",
       " 'end_min_r': 0.00019589522256552175,\n",
       " 'end_max_r': 0.008331484683240768,\n",
       " 'end_mean_theta': 0.04606520928247337,\n",
       " 'end_sigma_theta': 1.7880404356546549,\n",
       " 'end_min_theta': -3.047988056363867,\n",
       " 'end_max_theta': 3.1101499742374896,\n",
       " 'end_mean_px': 6.317650094784317,\n",
       " 'end_sigma_px': 4014.93460402761,\n",
       " 'end_min_px': -8749.332482663036,\n",
       " 'end_max_px': 9876.333823125287,\n",
       " 'end_mean_py': 0.3629708514164391,\n",
       " 'end_sigma_py': 3912.320825699204,\n",
       " 'end_min_py': -8113.090222518695,\n",
       " 'end_max_py': 9112.46060203407,\n",
       " 'end_mean_pz': 872700.0937362919,\n",
       " 'end_sigma_pz': 1677.5938923756296,\n",
       " 'end_min_pz': 870595.5385528905,\n",
       " 'end_max_pz': 878947.4810957205,\n",
       " 'end_mean_pr': 4997.052708406991,\n",
       " 'end_sigma_pr': 2540.7594123944427,\n",
       " 'end_min_pr': 149.79218294848332,\n",
       " 'end_max_pr': 10125.594444741311,\n",
       " 'end_mean_ptheta': 0.09567194894243801,\n",
       " 'end_sigma_ptheta': 1.789536957879418,\n",
       " 'end_min_ptheta': -3.1088051860240347,\n",
       " 'end_max_ptheta': 3.1053454402675773,\n",
       " 'end_mean_beta_x': 6.267671500991657e-06,\n",
       " 'end_sigma_beta_x': 0.003972195914259328,\n",
       " 'end_min_beta_x': -0.008655658113297948,\n",
       " 'end_max_beta_x': 0.009780165282834348,\n",
       " 'end_mean_beta_y': 3.4415270509083294e-07,\n",
       " 'end_sigma_beta_y': 0.0038708291854404725,\n",
       " 'end_min_beta_y': -0.008035417744587152,\n",
       " 'end_max_beta_y': 0.009020583654645399,\n",
       " 'end_mean_beta_z': 0.862935568433606,\n",
       " 'end_sigma_beta_z': 0.000428270832512797,\n",
       " 'end_min_beta_z': 0.8624124399885738,\n",
       " 'end_max_beta_z': 0.8645118538243404,\n",
       " 'end_mean_xp': 7.272303735099413e-06,\n",
       " 'end_sigma_xp': 0.0046040688670131715,\n",
       " 'end_min_xp': -0.010032557705660012,\n",
       " 'end_max_xp': 0.011339802374305702,\n",
       " 'end_mean_yp': 3.940816842044833e-07,\n",
       " 'end_sigma_yp': 0.0044866223532535774,\n",
       " 'end_min_yp': -0.009317178680188085,\n",
       " 'end_max_yp': 0.010457801562261532,\n",
       " 'end_mean_energy': 1011314.7592251059,\n",
       " 'end_sigma_energy': 1441.7341404611868,\n",
       " 'end_min_energy': 1009488.6137825483,\n",
       " 'end_max_energy': 1016698.0096426918,\n",
       " 'end_mean_kinetic_energy': 500315.8092251058,\n",
       " 'end_sigma_kinetic_energy': 1441.7341404611868,\n",
       " 'end_min_kinetic_energy': 498489.66378254833,\n",
       " 'end_max_kinetic_energy': 505699.0596426918,\n",
       " 'end_mean_p': 872718.112483283,\n",
       " 'end_sigma_p': 1670.349178657973,\n",
       " 'end_min_p': 870601.7082773893,\n",
       " 'end_max_p': 878951.0315770205,\n",
       " 'end_mean_gamma': 1.979093615016441,\n",
       " 'end_sigma_gamma': 0.002821403332553204,\n",
       " 'end_min_gamma': 1.9755199375312773,\n",
       " 'end_max_gamma': 1.9896283732925317,\n",
       " 'end_mean_t': 5.948594037968537e-09,\n",
       " 'end_sigma_t': 5.017353182748625e-10,\n",
       " 'end_min_t': 5.082367924321929e-09,\n",
       " 'end_max_t': 6.8129476568170215e-09,\n",
       " 'end_z_screen': 1.5000000000000002,\n",
       " 'end_n_particle_loss': 0,\n",
       " 'end_total_charge': 5e-09,\n",
       " 'fingerprint': '0ba41e4ef70b5ad7dad6936b937ac0d5'}"
      ]
     },
     "execution_count": 26,
     "metadata": {},
     "output_type": "execute_result"
    }
   ],
   "source": [
    "result"
   ]
  },
  {
   "cell_type": "code",
   "execution_count": null,
   "metadata": {},
   "outputs": [],
   "source": []
  }
 ],
 "metadata": {
  "kernelspec": {
   "display_name": "Python 3",
   "language": "python",
   "name": "python3"
  },
  "language_info": {
   "codemirror_mode": {
    "name": "ipython",
    "version": 3
   },
   "file_extension": ".py",
   "mimetype": "text/x-python",
   "name": "python",
   "nbconvert_exporter": "python",
   "pygments_lexer": "ipython3",
   "version": "3.6.10"
  }
 },
 "nbformat": 4,
 "nbformat_minor": 4
}
