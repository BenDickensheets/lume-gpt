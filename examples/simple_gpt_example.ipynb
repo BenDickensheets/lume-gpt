{
 "cells": [
  {
   "cell_type": "code",
   "execution_count": null,
   "metadata": {},
   "outputs": [],
   "source": [
    "# Useful for debugging\n",
    "%load_ext autoreload\n",
    "%autoreload 2"
   ]
  },
  {
   "cell_type": "markdown",
   "metadata": {},
   "source": [
    "# Simple GPT example\n",
    "----\n",
    "This example shows the basic usage of the LUME-GPT class object used to drive GPT simulations from Python.  Typically, the first step in using a GPT object is setting up a template directory.  This directory should include the GPT input file (typically 'gpt.in') and a folder (typically named 'fields') where any field maps shoule be stored.  Here the template directory is 'lume-gpt/templates/dcgun'.  This example includes an GPT file with a dcgun followed by a solenoid, both modeled by field maps.  A static input particle GDF files is also included.  Later, creating a distribution on the fly is discussed."
   ]
  },
  {
   "cell_type": "code",
   "execution_count": 2,
   "metadata": {},
   "outputs": [],
   "source": [
    "import sys, os\n",
    "root = os.path.join(os.getcwd(), '../')\n",
    "\n",
    "sys.path.append(root)\n",
    "\n",
    "INPUT_FILE = os.path.join(root,'templates/dcgun/gpt.in')\n",
    "\n",
    "from gpt import GPT"
   ]
  },
  {
   "cell_type": "markdown",
   "metadata": {},
   "source": [
    "Initialization  of the GPT object requires provided the input_file, among other possible inputs."
   ]
  },
  {
   "cell_type": "code",
   "execution_count": 3,
   "metadata": {},
   "outputs": [
    {
     "name": "stdout",
     "output_type": "stream",
     "text": [
      "GPT.configure_gpt:\n",
      "   Original input file \"gpt.in\" in \"/Users/colwyngulliford/Documents/GitHub/lume-gpt/templates/dcgun\"\n",
      "   Configured to run in \"/var/folders/t8/f3n1sdnn1jg0wfbpqfm1hsh80000gn/T/tmpr_z2okj8\"\n"
     ]
    }
   ],
   "source": [
    "G = GPT(input_file=INPUT_FILE, verbose=True)"
   ]
  },
  {
   "cell_type": "markdown",
   "metadata": {},
   "source": [
    "The GPT object is configured to run on configuration.  Unless specified, the simulatin is configured to run in a temporay directory, as can be seen above.  At this point the GPT file in template directory has been read in and variables lines of the form \"name = value;\" have been loaded into G.input['variables']:"
   ]
  },
  {
   "cell_type": "code",
   "execution_count": 4,
   "metadata": {},
   "outputs": [
    {
     "data": {
      "text/plain": [
       "{'data_dump': 0.0,\n",
       " 'Master_RF': 1300000000.0,\n",
       " 'MTE': 120.0,\n",
       " 'gun_voltage': 300.0,\n",
       " 'sol_1_current': 3.32107,\n",
       " 'auto_phase': 0.0,\n",
       " 'single_particle': 0.0,\n",
       " 'space_charge': 1.0,\n",
       " 'space_charge_type': 1.0,\n",
       " 'viewscreens_on': 1.0,\n",
       " 'kill_backwards_particles': 1.0,\n",
       " 'optimize_on': 0.0,\n",
       " 'xoffset': 0.0,\n",
       " 'yoffset': 0.0,\n",
       " 'RadiusMax': 0.04,\n",
       " 'GBacc': 5.5,\n",
       " 'xacc': 6.5,\n",
       " 'dtmin': 1e-16,\n",
       " 'dtmax': 1e-10,\n",
       " 'ZSLA01': 0.344,\n",
       " 'ZCTB01': 0.746,\n",
       " 'ZSLA02': 1.16,\n",
       " 'Zdcgun': 0.15,\n",
       " 'Maxdcgun': 500.0,\n",
       " 'SLAPolarity': -1.0,\n",
       " 'LSLA01': 0.6,\n",
       " 'XSLA01': 0.0,\n",
       " 'YSLA01': 0.0,\n",
       " 'THXSLA01': 0.0,\n",
       " 'IA1SDR01_z': 0.922,\n",
       " 'ZSTOP': 1.5,\n",
       " 'Alpha': 1.0,\n",
       " 'Fn': 0.5,\n",
       " 'verror': 0.005,\n",
       " 'Nstd': 5.0,\n",
       " 'tree_code_theta': 1.0,\n",
       " 'tree_code_R': 1e-06,\n",
       " 'Ntout': 50.0,\n",
       " 'tmax': 1e-08,\n",
       " 'ZSTART': -0.005}"
      ]
     },
     "execution_count": 4,
     "metadata": {},
     "output_type": "execute_result"
    }
   ],
   "source": [
    "G.input['variables']"
   ]
  },
  {
   "cell_type": "markdown",
   "metadata": {},
   "source": [
    "These represent all variables in the input file that can have value replacements substituted into the final gpt file used to run the simulation.  Replacements are handled by passing in a dictionary of names and values to GPT.set_variables(settings).  The function returns a dictionary of names and booleans if the variable replace was successful (a False value typically indicates the variables was not found in the input file):  "
   ]
  },
  {
   "cell_type": "code",
   "execution_count": 5,
   "metadata": {},
   "outputs": [
    {
     "name": "stdout",
     "output_type": "stream",
     "text": [
      "{'gun_voltage': True, 'sol_1_current': True}\n"
     ]
    }
   ],
   "source": [
    "variables_were_set = G.set_variables({'gun_voltage':375,'sol_1_current':-3})\n",
    "print(variables_were_set)"
   ]
  },
  {
   "cell_type": "markdown",
   "metadata": {},
   "source": [
    "To run the GPT simulation, with the above variable replacements made, simply call GPT.run():"
   ]
  },
  {
   "cell_type": "code",
   "execution_count": 6,
   "metadata": {},
   "outputs": [
    {
     "name": "stdout",
     "output_type": "stream",
     "text": [
      "GPT.run_gpt:\n",
      "   Running GPT in \"/private/var/folders/t8/f3n1sdnn1jg0wfbpqfm1hsh80000gn/T/tmpr_z2okj8\"\n",
      "   Writing gpt input file to \"/var/folders/t8/f3n1sdnn1jg0wfbpqfm1hsh80000gn/T/tmpr_z2okj8/gpt.in\"\n",
      "Warning: unknown option - -o\n",
      "Warning: unknown option --o\n",
      "\n",
      "General Particle Tracer - Oct 28 2014\n"
     ]
    }
   ],
   "source": [
    "G.run()"
   ]
  },
  {
   "cell_type": "markdown",
   "metadata": {},
   "source": [
    "This causes the GPT to run and the output data loaded into the GPT object.  Important data is stored in the GPT.output dictionary.  The raw screen and tout data is stored in G.screen and G.tout respectively.  The general info of the object and run can be printed using print(GPT):"
   ]
  },
  {
   "cell_type": "code",
   "execution_count": 7,
   "metadata": {},
   "outputs": [
    {
     "name": "stdout",
     "output_type": "stream",
     "text": [
      "dict_keys(['particles', 'start_time', 'run_time', 'run_error'])\n",
      "number of screens: 1\n",
      "number of touts: 32\n",
      "\n",
      "GPT object:\n",
      "   Original input file: gpt.in\n",
      "   Template location: /Users/colwyngulliford/Documents/GitHub/lume-gpt/templates/dcgun\n",
      "   Use temp directory: True\n",
      "\n",
      "Run Control\n",
      "   Run configured: True\n",
      "   Work location: /var/folders/t8/f3n1sdnn1jg0wfbpqfm1hsh80000gn/T/tmpr_z2okj8\n",
      "   Timeout: None (sec)\n",
      "\n",
      "Results\n",
      "   Finished: True\n",
      "   Error occured: False\n",
      "   Run time: 1.4959099292755127 (sec)\n"
     ]
    }
   ],
   "source": [
    "print(G.output.keys())\n",
    "print('number of screens:',len(G.screen))\n",
    "print('number of touts:', len(G.tout))\n",
    "\n",
    "# Info\n",
    "print(G)"
   ]
  },
  {
   "cell_type": "code",
   "execution_count": 8,
   "metadata": {},
   "outputs": [
    {
     "data": {
      "text/plain": [
       "'f7cd80d35b1b455dd8fa33daeb12128e'"
      ]
     },
     "execution_count": 8,
     "metadata": {},
     "output_type": "execute_result"
    }
   ],
   "source": [
    "# Unique fingerprint based on input\n",
    "G.fingerprint()"
   ]
  },
  {
   "cell_type": "markdown",
   "metadata": {},
   "source": [
    "# Particle stats\n",
    "The tout data is automatically loaded into PMD Beam Physics ParticleGroup format.  Statistical quantities based on that data are computed and stored in GPT.stat:"
   ]
  },
  {
   "cell_type": "code",
   "execution_count": 9,
   "metadata": {},
   "outputs": [
    {
     "data": {
      "text/plain": [
       "array([1.74030520e-06, 5.05909040e-06, 9.42959863e-06, 4.14775510e-06,\n",
       "       4.45535914e-06, 4.78537885e-06, 6.04877282e-06, 1.37250961e-05,\n",
       "       2.36687039e-05, 1.35630072e-05, 6.72500649e-06, 5.54286370e-06,\n",
       "       5.33795109e-06, 5.28033365e-06, 5.26623428e-06, 5.28496931e-06,\n",
       "       5.31665694e-06, 5.35511987e-06, 5.39594978e-06, 5.43613618e-06,\n",
       "       5.47522119e-06, 5.51203764e-06, 5.54623121e-06, 5.57758645e-06,\n",
       "       5.60675337e-06, 5.63374633e-06, 5.65841850e-06, 5.68083101e-06,\n",
       "       5.70121776e-06, 5.71991618e-06, 5.73705441e-06, 5.75273071e-06])"
      ]
     },
     "execution_count": 9,
     "metadata": {},
     "output_type": "execute_result"
    }
   ],
   "source": [
    "# Some statistic that can be calculated on the particles\n",
    "G.stat('norm_emit_x')"
   ]
  },
  {
   "cell_type": "code",
   "execution_count": 10,
   "metadata": {},
   "outputs": [
    {
     "data": {
      "text/plain": [
       "pmd_unit('m', 1, (1, 0, 0, 0, 0, 0, 0))"
      ]
     },
     "execution_count": 10,
     "metadata": {},
     "output_type": "execute_result"
    }
   ],
   "source": [
    "# The units\n",
    "G.stat_units('norm_emit_x')"
   ]
  },
  {
   "cell_type": "markdown",
   "metadata": {},
   "source": [
    "# Plot Statistics\n",
    "Plotting basic statistical data is then simple, simply requred the desired data from G.stat:"
   ]
  },
  {
   "cell_type": "code",
   "execution_count": 11,
   "metadata": {},
   "outputs": [],
   "source": [
    "from matplotlib import pyplot as plt\n",
    "import matplotlib \n",
    "\n",
    "%matplotlib inline\n",
    "%config InlineBackend.figure_format = 'retina'\n"
   ]
  },
  {
   "cell_type": "code",
   "execution_count": 12,
   "metadata": {},
   "outputs": [
    {
     "data": {
      "image/png": "[encoded data removed]",
      "text/plain": [
       "<Figure size 432x288 with 1 Axes>"
      ]
     },
     "metadata": {
      "image/png": {
       "height": 264,
       "width": 419
      },
      "needs_background": "light"
     },
     "output_type": "display_data"
    }
   ],
   "source": [
    "key1 = 'mean_z'\n",
    "key2 = 'norm_emit_x'\n",
    "dat1 = G.stat(key1)\n",
    "dat2 = G.stat(key2)\n",
    "units1 = G.stat_units(key1)\n",
    "units2 = G.stat_units(key2)\n",
    "\n",
    "fig, ax = plt.subplots()\n",
    "ax.plot(dat1, dat2);\n",
    "ax.set_xlabel(key1+f' ({units1})');\n",
    "ax.set_ylabel(key2+f' ({units2})');"
   ]
  },
  {
   "cell_type": "markdown",
   "metadata": {},
   "source": [
    "# Particle Densities\n",
    "PMD Beam Physics has some nice built in features for plotting particle distributions.  Below is a 2d histogram with marginal plots of the last tout:"
   ]
  },
  {
   "cell_type": "code",
   "execution_count": 13,
   "metadata": {},
   "outputs": [],
   "source": [
    "from pmd_beamphysics.plot import marginal_plot"
   ]
  },
  {
   "cell_type": "code",
   "execution_count": 14,
   "metadata": {},
   "outputs": [
    {
     "data": {
      "image/png": "[encoded data removed]",
      "text/plain": [
       "<Figure size 432x288 with 3 Axes>"
      ]
     },
     "metadata": {
      "image/png": {
       "height": 263,
       "width": 391
      },
      "needs_background": "light"
     },
     "output_type": "display_data"
    }
   ],
   "source": [
    "P = G.output['particles'][-1]\n",
    "\n",
    "marginal_plot(P, 'z', 'kinetic_energy', bins=20)"
   ]
  },
  {
   "cell_type": "code",
   "execution_count": 15,
   "metadata": {},
   "outputs": [],
   "source": [
    "# Running using the run_gpt: the actions above are combined into one user function\n",
    "from gpt.gpt import run_gpt"
   ]
  },
  {
   "cell_type": "code",
   "execution_count": 16,
   "metadata": {},
   "outputs": [],
   "source": [
    "G = run_gpt(settings={'gun_voltage':375,'sol_1_current':-3},\n",
    "            gpt_input_file=INPUT_FILE)"
   ]
  },
  {
   "cell_type": "code",
   "execution_count": 17,
   "metadata": {},
   "outputs": [
    {
     "name": "stdout",
     "output_type": "stream",
     "text": [
      "\n",
      "GPT object:\n",
      "   Original input file: gpt.in\n",
      "   Template location: /Users/colwyngulliford/Documents/GitHub/lume-gpt/templates/dcgun\n",
      "   Use temp directory: True\n",
      "\n",
      "Run Control\n",
      "   Run configured: True\n",
      "   Work location: /var/folders/t8/f3n1sdnn1jg0wfbpqfm1hsh80000gn/T/tmpgjs1th7m\n",
      "   Timeout: 2500 (sec)\n",
      "\n",
      "Results\n",
      "   Finished: True\n",
      "   Error occured: False\n",
      "   Run time: 1.4067060947418213 (sec)\n"
     ]
    }
   ],
   "source": [
    "print(G)"
   ]
  },
  {
   "cell_type": "markdown",
   "metadata": {},
   "source": [
    "# Passing in a Open PMD particle group\n",
    "Here a particle group is made via Distgen and then passed into the GPT class before running.  The particle group is written to file and used by the GPT file. This allows users to run GPT simulations with break points."
   ]
  },
  {
   "cell_type": "code",
   "execution_count": 18,
   "metadata": {},
   "outputs": [
    {
     "name": "stdout",
     "output_type": "stream",
     "text": [
      "\n",
      "GPT object:\n",
      "   Original input file: gpt.in\n",
      "   Template location: /Users/colwyngulliford/Documents/GitHub/lume-gpt/templates/dcgun_pmd\n",
      "   Use temp directory: True\n",
      "\n",
      "Run Control\n",
      "   Run configured: True\n",
      "   Work location: /var/folders/t8/f3n1sdnn1jg0wfbpqfm1hsh80000gn/T/tmpz9mdpn6o\n",
      "   Timeout: None (sec)\n",
      "\n",
      "Results\n",
      "   Finished: True\n",
      "   Error occured: False\n",
      "   Run time: 12.912621021270752 (sec)\n"
     ]
    }
   ],
   "source": [
    "from distgen.generator import Generator\n",
    "from pmd_beamphysics import ParticleGroup\n",
    "\n",
    "INPUT_FILE = os.path.join(root,'templates/dcgun_pmd/gpt.in')\n",
    "DISTGEN_INPUT_FILE = os.path.join(root,'templates/dcgun_pmd/distgen.in.yaml')\n",
    "gen = Generator(DISTGEN_INPUT_FILE)\n",
    "beam=gen.beam()\n",
    "\n",
    "P = ParticleGroup(data=beam.data())\n",
    "\n",
    "G = GPT(input_file=INPUT_FILE, initial_particles = P, verbose=False)\n",
    "G.run()\n",
    "print(G)"
   ]
  },
  {
   "cell_type": "markdown",
   "metadata": {},
   "source": [
    "# Driver functions\n",
    "---\n",
    "For ease of use the setting of variables and running of GPT is combined in several driver functions which can be used to run a GPT simulaiton.  The output of these functions is a GPT object.  \n",
    "\n",
    "# run_gpt(...)\n",
    "The simples example is run_gpt(...).  Typical use is to pass in the GPT input file and variable replacements:"
   ]
  },
  {
   "cell_type": "code",
   "execution_count": 19,
   "metadata": {},
   "outputs": [
    {
     "name": "stdout",
     "output_type": "stream",
     "text": [
      "run_gpt\n",
      "GPT.configure_gpt:\n",
      "   Original input file \"gpt.in\" in \"/Users/colwyngulliford/Documents/GitHub/lume-gpt/templates/dcgun\"\n",
      "   Configured to run in \"/var/folders/t8/f3n1sdnn1jg0wfbpqfm1hsh80000gn/T/tmprv84ri44\"\n",
      "GPT.run_gpt:\n",
      "   Running GPT in \"/private/var/folders/t8/f3n1sdnn1jg0wfbpqfm1hsh80000gn/T/tmprv84ri44\"\n",
      "   Writing gpt input file to \"/var/folders/t8/f3n1sdnn1jg0wfbpqfm1hsh80000gn/T/tmprv84ri44/gpt.in\"\n",
      "   Running with timeout = 2500 sec.\n",
      "\n",
      "GPT object:\n",
      "   Original input file: gpt.in\n",
      "   Template location: /Users/colwyngulliford/Documents/GitHub/lume-gpt/templates/dcgun\n",
      "   Use temp directory: True\n",
      "\n",
      "Run Control\n",
      "   Run configured: True\n",
      "   Work location: /var/folders/t8/f3n1sdnn1jg0wfbpqfm1hsh80000gn/T/tmprv84ri44\n",
      "   Timeout: 2500 (sec)\n",
      "\n",
      "Results\n",
      "   Finished: True\n",
      "   Error occured: False\n",
      "   Run time: 1.448166847229004 (sec)\n"
     ]
    }
   ],
   "source": [
    "from gpt.gpt import run_gpt\n",
    "INPUT_FILE = os.path.join(root,'templates/dcgun/gpt.in')\n",
    "G = run_gpt(settings={'gun_voltage':375,'sol_1_current':-3},\n",
    "            gpt_input_file=INPUT_FILE,\n",
    "            verbose=True)\n",
    "\n",
    "print(G)"
   ]
  },
  {
   "cell_type": "markdown",
   "metadata": {},
   "source": [
    "# run_gpt_with_distgen(...)\n",
    "It is often desirable to run GPT with Distgen as the input particle source.  This is handled by gpt.run_gpt_with_distgen(...).  Used is the same as gpt.run_gpt(), except a distgen input file (or YAML string) are required:"
   ]
  },
  {
   "cell_type": "code",
   "execution_count": 20,
   "metadata": {},
   "outputs": [
    {
     "name": "stdout",
     "output_type": "stream",
     "text": [
      "Run GPT with Distgen:\n",
      "gun_voltage is in gpt\n",
      "sol_1_current is in gpt\n",
      "Replacing param r_dist:max_r:value with value 2.5\n",
      "Replacing param total_charge:value with value 50\n",
      "Replacing param n_particle with value 200\n",
      "Linking particle files, distgen output will point to -> \"distgen_gpt_particles.gdf\" in working directory.\n",
      "Replacing Distgen output params\n",
      "\n",
      "Distgen >------\n",
      "\n",
      "Distribution format: gpt\n",
      "Output file: /var/folders/t8/f3n1sdnn1jg0wfbpqfm1hsh80000gn/T/tmpt1xi2yec/distgen_gpt_particles.gdf\n",
      "\n",
      "Creating beam distribution....\n",
      "   Beam starting from: cathode\n",
      "   Total charge: 50 pC.\n",
      "   Number of macroparticles: 200.\n",
      "   r distribution: radial uniform\n",
      "      min_r = 0 mm, max_r = 2.5 mm\n",
      "      Assuming cylindrical symmetry...\n",
      "   t distribution: uniform\n",
      "      min_t = -5 ps, max_t = 5 ps\n",
      "   px distribution: Gaussian\n",
      "      avg_px = 0 eV/c, sigma_px = 276.857 eV/c\n",
      "   py distribution: Gaussian\n",
      "      avg_py = 0 eV/c, sigma_py = 276.857 eV/c\n",
      "   pz distribution: Gaussian\n",
      "      avg_pz = 0 eV/c, sigma_pz = 276.857 eV/c\n",
      "   Scaling sigma_x -> 1.25 mm\n",
      "   Shifting avg_x -> 0 m\n",
      "   Scaling sigma_y -> 1.25 mm\n",
      "   Shifting avg_y -> 0 m\n",
      "   Scaling sigma_px -> 276.857 eV/c\n",
      "   Shifting avg_px -> 0 eV/c\n",
      "   Scaling sigma_py -> 276.857 eV/c\n",
      "   Shifting avg_py -> 0 eV/c\n",
      "   Scaling sigma_pz -> 276.857 eV/c\n",
      "   Scaling sigma_t -> 2.88675 ps\n",
      "   Shifting avg_t -> 0 ps\n",
      "   Cathode start: fixing pz momenta to forward hemisphere\n",
      "      avg_pz -> 222.7 eV/c, sigma_pz -> 164.482 eV/c\n",
      "...done. Time Ellapsed: 20.20 millisecond.\n",
      "\n",
      "Printing 200 particles to '/var/folders/t8/f3n1sdnn1jg0wfbpqfm1hsh80000gn/T/tmpt1xi2yec/distgen_gpt_particles.gdf':    Converting file to GDF: done. Time ellapsed: 11.77 millisecond.\n",
      "...done. Time ellapsed: 16.36 millisecond.\n",
      "------< Distgen\n",
      "\n",
      "GPT.run_gpt:\n",
      "   Running GPT in \"/private/var/folders/t8/f3n1sdnn1jg0wfbpqfm1hsh80000gn/T/tmpt1xi2yec\"\n",
      "   Writing gpt input file to \"/var/folders/t8/f3n1sdnn1jg0wfbpqfm1hsh80000gn/T/tmpt1xi2yec/gpt.in\"\n",
      "   Running with timeout = 2500 sec.\n",
      "\n",
      "GPT object:\n",
      "   Original input file: gpt.in\n",
      "   Template location: /Users/colwyngulliford/Documents/GitHub/lume-gpt/templates/dcgun_distgen\n",
      "   Use temp directory: True\n",
      "\n",
      "Run Control\n",
      "   Run configured: True\n",
      "   Work location: /var/folders/t8/f3n1sdnn1jg0wfbpqfm1hsh80000gn/T/tmpt1xi2yec\n",
      "   Timeout: 2500 (sec)\n",
      "\n",
      "Results\n",
      "   Finished: True\n",
      "   Error occured: False\n",
      "   Run time: 1.3603878021240234 (sec)\n"
     ]
    }
   ],
   "source": [
    "from gpt.gpt_distgen import run_gpt_with_distgen\n",
    "GPT_INPUT_FILE = os.path.join(root,'templates/dcgun_distgen/gpt.in')\n",
    "DISTGEN_INPUT_FILE = os.path.join(root,'templates/dcgun_distgen/distgen.in.yaml')\n",
    "\n",
    "settings = {'gun_voltage':500,\n",
    "            'sol_1_current':-4.5,\n",
    "            'r_dist:max_r:value':2.5,\n",
    "            'total_charge:value':50,\n",
    "            'n_particle':200}\n",
    "\n",
    "G = run_gpt_with_distgen(settings=settings,\n",
    "                         gpt_input_file=GPT_INPUT_FILE,\n",
    "                         distgen_input_file=DISTGEN_INPUT_FILE,\n",
    "                         verbose=True)\n",
    "\n",
    "print(G)"
   ]
  },
  {
   "cell_type": "markdown",
   "metadata": {},
   "source": [
    "To verify this worked, inspect the initial particle distribution:"
   ]
  },
  {
   "cell_type": "code",
   "execution_count": 21,
   "metadata": {},
   "outputs": [],
   "source": [
    "# Plot initial particle distribution\n",
    "import numpy as np\n",
    "from gpt.parsers import read_particle_gdf_file\n",
    "particles=read_particle_gdf_file(os.path.join(G.tempdir.name,'distgen_gpt_particles.gdf'))"
   ]
  },
  {
   "cell_type": "code",
   "execution_count": 22,
   "metadata": {},
   "outputs": [
    {
     "data": {
      "image/png": "[encoded data removed]",
      "text/plain": [
       "<Figure size 432x288 with 1 Axes>"
      ]
     },
     "metadata": {
      "image/png": {
       "height": 263,
       "width": 267
      },
      "needs_background": "light"
     },
     "output_type": "display_data"
    }
   ],
   "source": [
    "plt.figure()\n",
    "plt.plot(1000*particles['x'],1000*particles['y'],'*')\n",
    "plt.gca().set_aspect('equal', adjustable='box')\n",
    "plt.xlabel('x (mm)')\n",
    "plt.ylabel('y (mm)')\n",
    "plt.show()"
   ]
  },
  {
   "cell_type": "code",
   "execution_count": 23,
   "metadata": {},
   "outputs": [
    {
     "data": {
      "image/png": "[encoded data removed]",
      "text/plain": [
       "<Figure size 432x288 with 1 Axes>"
      ]
     },
     "metadata": {
      "image/png": {
       "height": 263,
       "width": 396
      },
      "needs_background": "light"
     },
     "output_type": "display_data"
    }
   ],
   "source": [
    "avgz = G.stat('mean_z')\n",
    "stdx = 1000*G.stat('sigma_x')\n",
    "stdy = 1000*G.stat('sigma_y')\n",
    "plt.figure()\n",
    "plt.plot(avgz,stdx,avgz,stdy)\n",
    "plt.xlabel('s (m)')\n",
    "plt.ylabel('$\\sigma_{x,y}$ (mm)')\n",
    "plt.show()"
   ]
  },
  {
   "cell_type": "markdown",
   "metadata": {},
   "source": [
    "# Using the Evaluate method\n",
    "The xopt optimization software requires an evaluation function to be run with GPT.  A basic evaluation function is provided by gpt.evaluate:"
   ]
  },
  {
   "cell_type": "code",
   "execution_count": 24,
   "metadata": {},
   "outputs": [],
   "source": [
    "from gpt.evaluate import evaluate\n",
    "\n",
    "result = evaluate(settings=settings,\n",
    "                  simulation='gpt_with_distgen',\n",
    "                  gpt_input_file=GPT_INPUT_FILE,\n",
    "                  distgen_input_file=DISTGEN_INPUT_FILE,\n",
    "                  verbose=False)"
   ]
  },
  {
   "cell_type": "code",
   "execution_count": 25,
   "metadata": {},
   "outputs": [
    {
     "data": {
      "text/plain": [
       "{'error': False,\n",
       " 'end_std_x': 0.0017768112399142205,\n",
       " 'end_std_y': 0.0017848747656373863,\n",
       " 'end_qbunch': 4.9999999999999995e-11,\n",
       " 'end_norm_emitt_x': 1.1799872951579944e-06,\n",
       " 'end_norm_emitt_y': 1.1758424007192168e-06,\n",
       " 'end_std_t': 9.971742887701527e-12,\n",
       " 'fingerprint': '8ea4908a9d521b188d666f1f63f6dacf'}"
      ]
     },
     "execution_count": 25,
     "metadata": {},
     "output_type": "execute_result"
    }
   ],
   "source": [
    "result"
   ]
  },
  {
   "cell_type": "code",
   "execution_count": null,
   "metadata": {},
   "outputs": [],
   "source": []
  }
 ],
 "metadata": {
  "kernelspec": {
   "display_name": "Python 3",
   "language": "python",
   "name": "python3"
  },
  "language_info": {
   "codemirror_mode": {
    "name": "ipython",
    "version": 3
   },
   "file_extension": ".py",
   "mimetype": "text/x-python",
   "name": "python",
   "nbconvert_exporter": "python",
   "pygments_lexer": "ipython3",
   "version": "3.6.10"
  }
 },
 "nbformat": 4,
 "nbformat_minor": 4
}
