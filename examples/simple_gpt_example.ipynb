{
 "cells": [
  {
   "cell_type": "code",
   "execution_count": 1,
   "metadata": {},
   "outputs": [],
   "source": [
    "# Useful for debugging\n",
    "%load_ext autoreload\n",
    "%autoreload 2"
   ]
  },
  {
   "cell_type": "markdown",
   "metadata": {},
   "source": [
    "# Simple GPT example"
   ]
  },
  {
   "cell_type": "code",
   "execution_count": 2,
   "metadata": {},
   "outputs": [],
   "source": [
    "import sys, os\n",
    "root = os.path.join(os.getcwd(), '../')\n",
    "\n",
    "sys.path.append(root)\n",
    "\n",
    "INPUT_FILE = os.path.join(root,'templates/dcgun/gpt.in')\n",
    "\n",
    "\n",
    "from gpt import GPT"
   ]
  },
  {
   "cell_type": "code",
   "execution_count": 3,
   "metadata": {},
   "outputs": [
    {
     "name": "stdout",
     "output_type": "stream",
     "text": [
      "Configured to run in /var/folders/wj/lfgr01993dx79p9cm_skykbw0000gn/T/tmp_r5tr5o9\n"
     ]
    }
   ],
   "source": [
    "G = GPT(input_file=INPUT_FILE, verbose=True)"
   ]
  },
  {
   "cell_type": "code",
   "execution_count": 4,
   "metadata": {},
   "outputs": [
    {
     "data": {
      "text/plain": [
       "{'data_dump': 0.0,\n",
       " 'Master_RF': 1300000000.0,\n",
       " 'MTE': 120.0,\n",
       " 'gun_voltage': 300.0,\n",
       " 'sol_1_current': 3.32107,\n",
       " 'auto_phase': 0.0,\n",
       " 'single_particle': 0.0,\n",
       " 'space_charge': 1.0,\n",
       " 'space_charge_type': 1.0,\n",
       " 'viewscreens_on': 1.0,\n",
       " 'kill_backwards_particles': 1.0,\n",
       " 'optimize_on': 0.0,\n",
       " 'xoffset': 0.0,\n",
       " 'yoffset': 0.0,\n",
       " 'RadiusMax': 0.04,\n",
       " 'GBacc': 5.5,\n",
       " 'xacc': 6.5,\n",
       " 'dtmin': 1e-16,\n",
       " 'dtmax': 1e-10,\n",
       " 'ZSLA01': 0.344,\n",
       " 'ZCTB01': 0.746,\n",
       " 'ZSLA02': 1.16,\n",
       " 'Zdcgun': 0.15,\n",
       " 'Maxdcgun': 500.0,\n",
       " 'SLAPolarity': -1.0,\n",
       " 'LSLA01': 0.6,\n",
       " 'XSLA01': 0.0,\n",
       " 'YSLA01': 0.0,\n",
       " 'THXSLA01': 0.0,\n",
       " 'IA1SDR01_z': 0.922,\n",
       " 'ZSTOP': 1.5,\n",
       " 'Alpha': 1.0,\n",
       " 'Fn': 0.5,\n",
       " 'verror': 0.005,\n",
       " 'Nstd': 5.0,\n",
       " 'tree_code_theta': 1.0,\n",
       " 'tree_code_R': 1e-06,\n",
       " 'Ntout': 50.0,\n",
       " 'tmax': 1e-08,\n",
       " 'ZSTART': -0.005}"
      ]
     },
     "execution_count": 4,
     "metadata": {},
     "output_type": "execute_result"
    }
   ],
   "source": [
    "# Available variables\n",
    "G.input['variables']"
   ]
  },
  {
   "cell_type": "code",
   "execution_count": 5,
   "metadata": {},
   "outputs": [],
   "source": [
    "# Set some of these\n",
    "G.set_variables({'gun_voltage':375,'sol_1_current':-3})"
   ]
  },
  {
   "cell_type": "code",
   "execution_count": 6,
   "metadata": {},
   "outputs": [
    {
     "name": "stdout",
     "output_type": "stream",
     "text": [
      "init dir:  /Users/chrisonian/Code/GitHub/lume-gpt/examples\n",
      "running GPT in /private/var/folders/wj/lfgr01993dx79p9cm_skykbw0000gn/T/tmp_r5tr5o9\n",
      "Warning: unknown option - -o\n",
      "Warning: unknown option --o\n",
      "\n",
      "General Particle Tracer - Oct 28 2014\n"
     ]
    }
   ],
   "source": [
    "# Run\n",
    "G.run()"
   ]
  },
  {
   "cell_type": "markdown",
   "metadata": {},
   "source": [
    "# Plot"
   ]
  },
  {
   "cell_type": "code",
   "execution_count": 7,
   "metadata": {},
   "outputs": [
    {
     "data": {
      "image/png": "[encoded data removed]",
      "text/plain": [
       "<Figure size 432x288 with 1 Axes>"
      ]
     },
     "metadata": {
      "needs_background": "light"
     },
     "output_type": "display_data"
    },
    {
     "data": {
      "image/png": "[encoded data removed]",
      "text/plain": [
       "<Figure size 432x288 with 1 Axes>"
      ]
     },
     "metadata": {
      "needs_background": "light"
     },
     "output_type": "display_data"
    }
   ],
   "source": [
    "# Run GPT with some new settings:\n",
    "from matplotlib import pyplot as plt\n",
    "\n",
    "zavg = [tout['z'].mean() for tout in G.tout] \n",
    "xstd = [1000*tout['x'].std() for tout in G.tout] \n",
    "ystd = [1000*tout['y'].std() for tout in G.tout] \n",
    "avgKE = [0.51*(tout['G'].mean()-1) for tout in G.tout] \n",
    "\n",
    "plt.figure()\n",
    "plt.plot(zavg,xstd, zavg,ystd)\n",
    "plt.xlabel('z (m)')\n",
    "plt.ylabel('$\\sigma_{x,y}$ (mm)')\n",
    "\n",
    "plt.figure()\n",
    "plt.plot(zavg,avgKE)\n",
    "plt.xlabel('z (m)')\n",
    "plt.ylabel('KE (MeV)')\n",
    "plt.show()"
   ]
  },
  {
   "cell_type": "code",
   "execution_count": null,
   "metadata": {},
   "outputs": [],
   "source": []
  }
 ],
 "metadata": {
  "kernelspec": {
   "display_name": "Python 3",
   "language": "python",
   "name": "python3"
  },
  "language_info": {
   "codemirror_mode": {
    "name": "ipython",
    "version": 3
   },
   "file_extension": ".py",
   "mimetype": "text/x-python",
   "name": "python",
   "nbconvert_exporter": "python",
   "pygments_lexer": "ipython3",
   "version": "3.7.6"
  }
 },
 "nbformat": 4,
 "nbformat_minor": 4
}
