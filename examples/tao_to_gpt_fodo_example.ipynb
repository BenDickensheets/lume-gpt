{
 "cells": [
  {
   "cell_type": "code",
   "execution_count": 1,
   "id": "cc2dc427-f16b-4663-8002-88129834e039",
   "metadata": {},
   "outputs": [],
   "source": [
    "%load_ext autoreload\n",
    "%autoreload 2\n",
    "%config InlineBackend.figure_format = 'retina'\n",
    "\n",
    "import os\n",
    "from matplotlib import pyplot as plt\n",
    "from gpt import GPT\n",
    "\n",
    "from matplotlib import pyplot as plt\n",
    "import numpy as np"
   ]
  },
  {
   "cell_type": "markdown",
   "id": "2f2e13c0-4950-43a4-abb0-8d6292f529af",
   "metadata": {},
   "source": [
    "# Autotranslation of Tao FODO Lattice to GPT\n",
    "---\n",
    "This example uses pytao to load a Tao FODO lattice example and then converts it to a GPT lattice.  Note this will require installing the pytao package:\n",
    "\n",
    "see: [https://github.com/bmad-sim/pytao](https://github.com/bmad-sim/pytao)"
   ]
  },
  {
   "cell_type": "code",
   "execution_count": 2,
   "id": "295c6d45-8fbd-4a36-929e-e997fb2f5c80",
   "metadata": {},
   "outputs": [],
   "source": [
    "from pytao import Tao"
   ]
  },
  {
   "cell_type": "code",
   "execution_count": 3,
   "id": "4afa25fd-dc34-43fb-aa4d-7c53b716889a",
   "metadata": {},
   "outputs": [
    {
     "ename": "ValueError",
     "evalue": "Shared object libtao library not found.",
     "output_type": "error",
     "traceback": [
      "\u001b[0;31m---------------------------------------------------------------------------\u001b[0m",
      "\u001b[0;31mValueError\u001b[0m                                Traceback (most recent call last)",
      "Cell \u001b[0;32mIn[3], line 2\u001b[0m\n\u001b[1;32m      1\u001b[0m \u001b[38;5;66;03m#tao = Tao('-init templates/tao/fodo/fodo.lat.bmad -noplot -external_plotting')\u001b[39;00m\n\u001b[0;32m----> 2\u001b[0m tao \u001b[38;5;241m=\u001b[39m \u001b[43mTao\u001b[49m\u001b[43m(\u001b[49m\u001b[38;5;124;43m'\u001b[39;49m\u001b[38;5;124;43m-init templates/tao/fodo/tao.init -noplot -external_plotting\u001b[39;49m\u001b[38;5;124;43m'\u001b[39;49m\u001b[43m)\u001b[49m\n\u001b[1;32m      3\u001b[0m G \u001b[38;5;241m=\u001b[39m GPT\u001b[38;5;241m.\u001b[39mfrom_tao(tao)\n\u001b[1;32m      4\u001b[0m G\u001b[38;5;241m.\u001b[39mlattice\u001b[38;5;241m.\u001b[39mplot_floor(screen_alpha\u001b[38;5;241m=\u001b[39m\u001b[38;5;241m0.025\u001b[39m);\n",
      "File \u001b[0;32m~/miniconda3/envs/lume-gpt/lib/python3.11/site-packages/pytao/tao_ctypes/core.py:71\u001b[0m, in \u001b[0;36mTao.__init__\u001b[0;34m(self, init, so_lib)\u001b[0m\n\u001b[1;32m     69\u001b[0m         \u001b[38;5;28mself\u001b[39m\u001b[38;5;241m.\u001b[39mso_lib_file \u001b[38;5;241m=\u001b[39m lib_file\n\u001b[1;32m     70\u001b[0m     \u001b[38;5;28;01melse\u001b[39;00m:\n\u001b[0;32m---> 71\u001b[0m         \u001b[38;5;28;01mraise\u001b[39;00m \u001b[38;5;167;01mValueError\u001b[39;00m(\u001b[38;5;124mf\u001b[39m\u001b[38;5;124m'\u001b[39m\u001b[38;5;124mShared object libtao library not found.\u001b[39m\u001b[38;5;124m'\u001b[39m)\n\u001b[1;32m     73\u001b[0m \u001b[38;5;28mself\u001b[39m\u001b[38;5;241m.\u001b[39mso_lib\u001b[38;5;241m.\u001b[39mtao_c_out_io_buffer_get_line\u001b[38;5;241m.\u001b[39mrestype \u001b[38;5;241m=\u001b[39m ctypes\u001b[38;5;241m.\u001b[39mc_char_p\n\u001b[1;32m     74\u001b[0m \u001b[38;5;28mself\u001b[39m\u001b[38;5;241m.\u001b[39mso_lib\u001b[38;5;241m.\u001b[39mtao_c_out_io_buffer_reset\u001b[38;5;241m.\u001b[39mrestype \u001b[38;5;241m=\u001b[39m \u001b[38;5;28;01mNone\u001b[39;00m\n",
      "\u001b[0;31mValueError\u001b[0m: Shared object libtao library not found."
     ]
    }
   ],
   "source": [
    "#tao = Tao('-init templates/tao/fodo/fodo.lat.bmad -noplot -external_plotting')\n",
    "tao = Tao('-init templates/tao/fodo/tao.init -noplot -external_plotting')\n",
    "G = GPT.from_tao(tao)\n",
    "G.lattice.plot_floor(screen_alpha=0.025);"
   ]
  },
  {
   "cell_type": "code",
   "execution_count": null,
   "id": "02a09219-20f8-4938-8dfe-42d6c897aadb",
   "metadata": {},
   "outputs": [],
   "source": [
    "from pmd_beamphysics import single_particle, ParticleGroup\n",
    "\n",
    "from scipy.constants import physical_constants, c\n",
    "\n",
    "MC2 = physical_constants['electron mass energy equivalent in MeV'][0]*1e6"
   ]
  },
  {
   "cell_type": "code",
   "execution_count": null,
   "id": "a0f58460-328d-49f5-8da2-d3c1cb8a8d4e",
   "metadata": {},
   "outputs": [],
   "source": [
    "E = 150e6\n",
    "p = np.sqrt(E**2 - MC2**2)"
   ]
  },
  {
   "cell_type": "code",
   "execution_count": null,
   "id": "cb17c6e4-7a1b-4af6-ba3c-9b190bde68b5",
   "metadata": {},
   "outputs": [],
   "source": [
    "Px, Py = single_particle(x=1e-3, pz=p), single_particle(y=1e-3, pz=p)\n",
    "PXFILE, PYFILE = 'x_probe_particle.h5', 'y_probe_particle.h5'\n",
    "\n",
    "Px.write(PXFILE)\n",
    "Py.write(PYFILE)"
   ]
  },
  {
   "cell_type": "code",
   "execution_count": null,
   "id": "b90fb8bd-55a9-4fb5-aecb-a0dad6ba2eec",
   "metadata": {},
   "outputs": [],
   "source": [
    "G.initial_particles = Px + Py"
   ]
  },
  {
   "cell_type": "code",
   "execution_count": null,
   "id": "a456c516-3112-4367-8b69-241d7ec52e9b",
   "metadata": {},
   "outputs": [],
   "source": [
    "G.set_variables({'tmax': 5e-8})"
   ]
  },
  {
   "cell_type": "code",
   "execution_count": null,
   "id": "cd49400b-0a21-4d43-8d0c-763017348212",
   "metadata": {},
   "outputs": [],
   "source": [
    "G.run()"
   ]
  },
  {
   "cell_type": "code",
   "execution_count": null,
   "id": "91841b90-3a1c-4051-b586-b520ec2f0a30",
   "metadata": {},
   "outputs": [],
   "source": [
    "print(G)"
   ]
  },
  {
   "cell_type": "code",
   "execution_count": null,
   "id": "61cdb451-fd4a-4b46-ada7-311cfc682f57",
   "metadata": {},
   "outputs": [],
   "source": [
    "tao.cmd('set beam_init position_file = x_probe_particle.h5');\n",
    "tao.cmd(f'set beam_init n_particle = {len(Px)}');\n",
    "tao.cmd('set global track_type = beam');\n",
    "\n",
    "ix = tao.lat_list('marker::*', 'ele.ix_ele')\n",
    "PGxs = [ ParticleGroup(data=tao.bunch_data(i)) for i in ix]\n",
    "\n",
    "tao.cmd('set beam_init position_file = y_probe_particle.h5');\n",
    "tao.cmd(f'set beam_init n_particle = {len(Px)}');\n",
    "tao.cmd('set global track_type = beam');\n",
    "\n",
    "ix = tao.lat_list('marker::*', 'ele.ix_ele')\n",
    "PGys = [ ParticleGroup(data=tao.bunch_data(i)) for i in ix]"
   ]
  },
  {
   "cell_type": "code",
   "execution_count": null,
   "id": "1f9b5736-38c3-4c45-a23f-cd7527233da5",
   "metadata": {},
   "outputs": [],
   "source": [
    "def get_mean_value(key, PGs):\n",
    "    values = np.array([PG[f'mean_{key}'] for PG in PGs])\n",
    "    return values\n",
    "\n",
    "def get_sigma_value(key, PGs):\n",
    "    values = np.array([PG[f'sigma_{key}'] for PG in PGs])\n",
    "    return values\n",
    "\n",
    "fig, axs = plt.subplots(2, 1)# constrained_layout=True)\n",
    "tx = G.trajectory(1, data_type='screen')\n",
    "ty = G.trajectory(2, data_type='screen')\n",
    "\n",
    "axs[0].plot(c*tx['t'], tx['x']*1e3, color='tab:blue')\n",
    "axs[0].plot(c*get_mean_value('t', PGxs), 1e3*get_mean_value('x', PGxs), '--', color='tab:blue')\n",
    "\n",
    "axs[0].plot(c*ty['t'], ty['y']*1e3, color='tab:orange')\n",
    "axs[0].plot(c*get_mean_value('t', PGys), 1e3*get_mean_value('y', PGys), '--', color='tab:orange')\n",
    "\n",
    "axs[0].set_xlabel('s (m)')\n",
    "axs[0].set_ylabel('$<x, y>$ (mm)')\n",
    "\n",
    "G.lattice.plot_floor(screen_alpha=0.025, ax=axs[-1]);\n",
    "\n",
    "axs[0].legend(['GPT x-offset particle', 'Tao x-offset particle', 'GPT y-offset particle', 'Tao y-offset particle']);"
   ]
  },
  {
   "cell_type": "code",
   "execution_count": null,
   "id": "096a03a2-3bf2-4d56-8d95-b8c370a0f246",
   "metadata": {},
   "outputs": [],
   "source": [
    "os.remove('x_probe_particle.h5')\n",
    "os.remove('y_probe_particle.h5')"
   ]
  }
 ],
 "metadata": {
  "kernelspec": {
   "display_name": "Python 3 (ipykernel)",
   "language": "python",
   "name": "python3"
  },
  "language_info": {
   "codemirror_mode": {
    "name": "ipython",
    "version": 3
   },
   "file_extension": ".py",
   "mimetype": "text/x-python",
   "name": "python",
   "nbconvert_exporter": "python",
   "pygments_lexer": "ipython3",
   "version": "3.11.5"
  }
 },
 "nbformat": 4,
 "nbformat_minor": 5
}
