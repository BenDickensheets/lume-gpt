{
 "cells": [
  {
   "cell_type": "code",
   "execution_count": 1,
   "metadata": {},
   "outputs": [],
   "source": [
    "# Useful for debugging\n",
    "%load_ext autoreload\n",
    "%autoreload 2"
   ]
  },
  {
   "cell_type": "markdown",
   "metadata": {},
   "source": [
    "# APEX Gun example"
   ]
  },
  {
   "cell_type": "code",
   "execution_count": 2,
   "metadata": {},
   "outputs": [],
   "source": [
    "import sys, os\n",
    "root = os.path.join(os.getcwd(), '../')\n",
    "\n",
    "sys.path.append(root)\n",
    "\n",
    "INPUT_FILE = os.path.join(root,'templates/apex_gun/gpt.in')\n",
    "\n",
    "from gpt import GPT"
   ]
  },
  {
   "cell_type": "code",
   "execution_count": 3,
   "metadata": {},
   "outputs": [
    {
     "name": "stdout",
     "output_type": "stream",
     "text": [
      "Configured to run in /var/folders/t8/f3n1sdnn1jg0wfbpqfm1hsh80000gn/T/tmp6namgoge\n"
     ]
    }
   ],
   "source": [
    "G = GPT(input_file=INPUT_FILE, verbose=True)"
   ]
  },
  {
   "cell_type": "code",
   "execution_count": 4,
   "metadata": {},
   "outputs": [
    {
     "name": "stdout",
     "output_type": "stream",
     "text": [
      "[True, True, True, True]\n"
     ]
    }
   ],
   "source": [
    "# Set some of these\n",
    "variables_were_set = G.set_variables({'gun_peak_field':20e6,'gun_phase':-90,'tmax':10e-8, 'RadiusMax':1})\n",
    "print(variables_were_set)"
   ]
  },
  {
   "cell_type": "code",
   "execution_count": 5,
   "metadata": {},
   "outputs": [
    {
     "name": "stdout",
     "output_type": "stream",
     "text": [
      "init dir:  /Users/colwyngulliford/Documents/GitHub/lume-gpt/examples\n",
      "running GPT in /private/var/folders/t8/f3n1sdnn1jg0wfbpqfm1hsh80000gn/T/tmp6namgoge\n",
      "Warning: unknown option - -o\n",
      "Warning: unknown option --o\n",
      "\n",
      "General Particle Tracer - Oct 28 2014\n",
      "Run Aborted: Cannot identify species with mass 3.347115e-27 and charge 1.602e-19\n",
      "GPT object:\n",
      "   Original input file: gpt.in\n",
      "   Use temp directory: True\n",
      "   Work directory: None\n",
      "\n",
      "Run Control\n",
      "   Run configured: True\n",
      "   Using temp directory: False\n",
      "   Timeout: None (sec)\n",
      "\n",
      "Results\n",
      "   Finished: True\n",
      "   Error occured: True\n",
      "   Run time: 0.2177720069885254 (sec)\n",
      "\n",
      "Number of touts: 100\n"
     ]
    }
   ],
   "source": [
    "# Run\n",
    "G.run()\n",
    "print(G)\n",
    "print('\\nNumber of touts:',len(G.tout))"
   ]
  },
  {
   "cell_type": "markdown",
   "metadata": {},
   "source": [
    "# Plot trajectories"
   ]
  },
  {
   "cell_type": "code",
   "execution_count": 6,
   "metadata": {},
   "outputs": [
    {
     "name": "stdout",
     "output_type": "stream",
     "text": [
      "dict_keys(['x', 'GBx', 'y', 'GBy', 'z', 'GBz', 't', 'q', 'nmacro', 'ID', 'm', 'w', 'G', 'time', 'n', 'number'])\n"
     ]
    }
   ],
   "source": [
    "import numpy as np\n",
    "from matplotlib import pyplot as plt\n",
    "\n",
    "# Make trajector structure here for now, should go somewhere else as a function\n",
    "\n",
    "print(G.tout[0].keys())\n",
    "\n",
    "rs ={}\n",
    "for t in G.tout:\n",
    "    for ID in t['ID']:\n",
    "        idint=int(ID)\n",
    "        res = np.where(t['ID']==ID)\n",
    "        index = res[0][0]\n",
    "        \n",
    "        if(ID not in rs.keys()):\n",
    "            rs[idint]={'x':[],'y':[],'z':[]}\n",
    "        else:\n",
    "            rs[idint]['x'].append(t['x'][index])\n",
    "            rs[idint]['y'].append(t['y'][index])\n",
    "            rs[idint]['z'].append(t['z'][index])\n",
    "         "
   ]
  },
  {
   "cell_type": "code",
   "execution_count": 7,
   "metadata": {},
   "outputs": [
    {
     "data": {
      "image/png": "[encoded data removed]",
      "text/plain": [
       "<Figure size 432x288 with 1 Axes>"
      ]
     },
     "metadata": {
      "needs_background": "light"
     },
     "output_type": "display_data"
    }
   ],
   "source": [
    "for ind in rs.keys():\n",
    "    for var in rs[ind]:\n",
    "        rs[ind][var]=np.array(rs[ind][var])\n",
    "\n",
    "for ind in rs.keys():\n",
    "    plt.plot(rs[ind]['z'],rs[ind]['x']*1e2)\n",
    "    \n",
    "plt.xlabel('z (m)');\n",
    "plt.ylabel('x (cm)');"
   ]
  },
  {
   "cell_type": "code",
   "execution_count": null,
   "metadata": {},
   "outputs": [],
   "source": []
  }
 ],
 "metadata": {
  "kernelspec": {
   "display_name": "Python 3",
   "language": "python",
   "name": "python3"
  },
  "language_info": {
   "codemirror_mode": {
    "name": "ipython",
    "version": 3
   },
   "file_extension": ".py",
   "mimetype": "text/x-python",
   "name": "python",
   "nbconvert_exporter": "python",
   "pygments_lexer": "ipython3",
   "version": "3.6.10"
  }
 },
 "nbformat": 4,
 "nbformat_minor": 4
}
