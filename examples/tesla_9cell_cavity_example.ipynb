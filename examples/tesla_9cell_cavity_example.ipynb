{
 "cells": [
  {
   "cell_type": "code",
   "execution_count": 7,
   "metadata": {},
   "outputs": [
    {
     "name": "stdout",
     "output_type": "stream",
     "text": [
      "The autoreload extension is already loaded. To reload it, use:\n",
      "  %reload_ext autoreload\n"
     ]
    }
   ],
   "source": [
    "# Useful for debugging\n",
    "%load_ext autoreload\n",
    "%autoreload 2\n",
    "\n",
    "from matplotlib import pyplot as plt\n",
    "import matplotlib \n",
    "import os\n",
    "import yaml\n",
    "\n",
    "%matplotlib inline\n",
    "%config InlineBackend.figure_format = 'retina'\n",
    "import sys, os\n",
    "root = os.path.join(os.getcwd(), '../')"
   ]
  },
  {
   "cell_type": "markdown",
   "metadata": {},
   "source": [
    "# Distgen \n",
    "---"
   ]
  },
  {
   "cell_type": "code",
   "execution_count": 9,
   "metadata": {},
   "outputs": [],
   "source": [
    "from distgen import Generator\n",
    "\n",
    "DISTGEN_INPUT_FILE = os.path.join(root,'templates/tesla_9cell_cavity/distgen.in.yaml')\n",
    "\n",
    "G = Generator(DISTGEN_INPUT_FILE)\n",
    "G.run()\n",
    "\n",
    "yaml.dump(yaml.safe_load(DISTGEN_FILE_STR), open(DISTGEN_FILE,'w'))\n"
   ]
  },
  {
   "cell_type": "markdown",
   "metadata": {},
   "source": [
    "# GPT input file:"
   ]
  },
  {
   "cell_type": "code",
   "execution_count": 6,
   "metadata": {},
   "outputs": [],
   "source": [
    "GPT_INPUT_FILE = os.path.join(root,'templates/tesla_9cell_cavity/gpt.in')"
   ]
  },
  {
   "cell_type": "markdown",
   "metadata": {},
   "source": [
    "# Run GPT without phasing\n",
    "---"
   ]
  },
  {
   "cell_type": "code",
   "execution_count": 20,
   "metadata": {},
   "outputs": [
    {
     "name": "stdout",
     "output_type": "stream",
     "text": [
      "Run GPT with Distgen:\n",
      "Replacing param n_particle with value 200\n",
      "Ntout is in gpt\n",
      "field_scale is in gpt\n",
      "Linking particle files, distgen output will point to -> \"gpt.particles.gdf\" in working directory.\n",
      "\n",
      "Distgen >------\n",
      "\n",
      "Distribution format: gpt\n",
      "Output file: /var/folders/t8/f3n1sdnn1jg0wfbpqfm1hsh80000gn/T/tmpwcgw36el/gpt.particles.gdf\n",
      "\n",
      "Creating beam distribution....\n",
      "   Beam starting from: time\n",
      "   Total charge: 1 nC.\n",
      "   Number of macroparticles: 200.\n",
      "   Assuming cylindrical symmetry...\n",
      "   r distribution: radial Gaussian\n",
      "   theta distribution:       min_theta = 0 rad, max_theta = 6.28319 rad\n",
      "   z distribution: Gaussian\n",
      "      avg_z = 0 mm, sigma_z = 0.100 mm\n",
      "   Shifting avg_x = -1.27662E-05 mm -> 0 mm\n",
      "   Scaling sigma_x = 0.000982028 mm -> 0.001 mm\n",
      "   Shifting avg_y = -2.88062E-06 mm -> 0 mm\n",
      "   Scaling sigma_y = 0.000987073 mm -> 0.001 mm\n",
      "   Shifting avg_z = -0.00197851 mm -> 0 mm\n",
      "   Scaling sigma_z = 0.0976921 mm -> 0.1 mm\n",
      "   Time start: fixing all particle time values to start time: 0 s.\n",
      "      Setting avg_t -> 0 s.\n",
      "   Applying user supplied transform: \"setPz\" = set_avg pz...\n",
      "      Setting avg_pz -> 99.9987 MeV/c.\n",
      "...done. Time Ellapsed: 34.5609 ms.\n",
      "\n",
      "Printing 200 particles to \"/var/folders/t8/f3n1sdnn1jg0wfbpqfm1hsh80000gn/T/tmpwcgw36el/gpt.particles.gdf\":    Converting file to GDF: done. Time ellapsed: 15.7487 ms.\n",
      "...done. Time ellapsed: 20.957 ms.\n",
      "------< Distgen\n",
      "\n",
      "\n",
      "Auto Phasing >------\n",
      "\n",
      "****> Creating intiial distribution for phasing...\n",
      "Distribution format: None\n",
      "   Warning: no output file specified, defaulting to \"None\".\n",
      "Output file: None\n",
      "\n",
      "Creating beam distribution....\n",
      "   Beam starting from: time\n",
      "   Total charge: 0 C.\n",
      "   Number of macroparticles: 10.\n",
      "   Time start: fixing all particle time values to start time: 0 s.\n",
      "      Setting avg_t -> 0 s.\n",
      "   Applying user supplied transform: \"avg_x\" = set_avg x...\n",
      "      Setting avg_x -> -3.63959E-23 m.\n",
      "   Applying user supplied transform: \"avg_y\" = set_avg y...\n",
      "      Setting avg_y -> 0 m.\n",
      "   Applying user supplied transform: \"avg_z\" = set_avg z...\n",
      "      Setting avg_z -> -2.75286E-21 m.\n",
      "   Applying user supplied transform: \"avg_px\" = set_avg px...\n",
      "      Setting avg_px -> 0 GB.\n",
      "   Applying user supplied transform: \"avg_py\" = set_avg py...\n",
      "      Setting avg_py -> 0 GB.\n",
      "   Applying user supplied transform: \"avg_pz\" = set_avg pz...\n",
      "      Setting avg_pz -> 195.693 GB.\n",
      "   Applying user supplied transform: \"avg_t\" = set_avg t...\n",
      "      Setting avg_t -> 0 s.\n",
      "...done. Time Ellapsed: 17.046 ms.\n",
      "\n",
      "Printing 10 particles to \"/var/folders/t8/f3n1sdnn1jg0wfbpqfm1hsh80000gn/T/tmpwcgw36el/gpt_particles.phasing.gdf\":    Converting file to GDF: done. Time ellapsed: 10.6561 ms.\n",
      "...done. Time ellapsed: 12.6362 ms.\n",
      "<**** Created intiial distribution for phasing.\n",
      "\n",
      "   Writing gpt input file to \"/var/folders/t8/f3n1sdnn1jg0wfbpqfm1hsh80000gn/T/tmpwcgw36el/gpt.in\"\n",
      "\n",
      "Phasing: /var/folders/t8/f3n1sdnn1jg0wfbpqfm1hsh80000gn/T/tmpwcgw36el/gpt.in\n",
      " \n",
      "Skipping: Cavity 0: Best phase = 0.0, final gamma = 1.0\n",
      " \n",
      "Time Ellapsed: 0.11911511421203613 sec.\n",
      "------< Auto Phasing\n",
      "\n",
      "GPT.run_gpt:\n",
      "   Running GPT...\n",
      "   Writing gpt input file to \"/var/folders/t8/f3n1sdnn1jg0wfbpqfm1hsh80000gn/T/tmpwcgw36el/gpt.in\"\n",
      "   Running with timeout = 2500 sec.\n",
      "   Loading GPT data from /var/folders/t8/f3n1sdnn1jg0wfbpqfm1hsh80000gn/T/tmpwcgw36el/gpt.out.gdf\n",
      "   GDF data loaded, time ellapsed: 0.248992 (sec).\n",
      "   Converting tout and screen data to ParticleGroup(s)\n",
      "   Run finished, total time ellapsed: 0.42076 (sec)\n",
      "\n",
      "GPT object:\n",
      "   Original input file: gpt.in\n",
      "   Template location: /Users/colwyngulliford/Documents/GitHub/lume-gpt/templates/tesla_9cell_cavity\n",
      "   Use temp directory: True\n",
      "\n",
      "Run Control\n",
      "   Run configured: True\n",
      "   Work location: /var/folders/t8/f3n1sdnn1jg0wfbpqfm1hsh80000gn/T/tmpwcgw36el\n",
      "   Timeout: 2500 (sec)\n",
      "\n",
      "Results\n",
      "   Finished: True\n",
      "   Error occured: False\n",
      "   Run time: 0.420759916305542 (sec)\n"
     ]
    }
   ],
   "source": [
    "from gpt.gpt_distgen import run_gpt_with_distgen\n",
    "\n",
    "settings={'n_particle':200, \n",
    "          'Ntout':500,\n",
    "          'field_scale':0}\n",
    "\n",
    "G = run_gpt_with_distgen(settings,\n",
    "                         gpt_input_file=GPT_INPUT_FILE,\n",
    "                         distgen_input_file=DISTGEN_INPUT_FILE,\n",
    "                         verbose=True,\n",
    "                         auto_phase=True)\n",
    "\n",
    "print(G)"
   ]
  },
  {
   "cell_type": "code",
   "execution_count": null,
   "metadata": {},
   "outputs": [],
   "source": []
  }
 ],
 "metadata": {
  "kernelspec": {
   "display_name": "Python 3",
   "language": "python",
   "name": "python3"
  },
  "language_info": {
   "codemirror_mode": {
    "name": "ipython",
    "version": 3
   },
   "file_extension": ".py",
   "mimetype": "text/x-python",
   "name": "python",
   "nbconvert_exporter": "python",
   "pygments_lexer": "ipython3",
   "version": "3.6.10"
  }
 },
 "nbformat": 4,
 "nbformat_minor": 4
}
