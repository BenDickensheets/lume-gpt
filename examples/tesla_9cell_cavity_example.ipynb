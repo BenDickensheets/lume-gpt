{
 "cells": [
  {
   "cell_type": "code",
   "execution_count": 7,
   "metadata": {},
   "outputs": [
    {
     "name": "stdout",
     "output_type": "stream",
     "text": [
      "The autoreload extension is already loaded. To reload it, use:\n",
      "  %reload_ext autoreload\n"
     ]
    }
   ],
   "source": [
    "# Useful for debugging\n",
    "%load_ext autoreload\n",
    "%autoreload 2\n",
    "\n",
    "from matplotlib import pyplot as plt\n",
    "import matplotlib \n",
    "import os\n",
    "import yaml\n",
    "\n",
    "%matplotlib inline\n",
    "%config InlineBackend.figure_format = 'retina'\n",
    "import sys, os\n",
    "root = os.path.join(os.getcwd(), '../')"
   ]
  },
  {
   "cell_type": "markdown",
   "metadata": {},
   "source": [
    "# Distgen \n",
    "---"
   ]
  },
  {
   "cell_type": "code",
   "execution_count": 9,
   "metadata": {},
   "outputs": [],
   "source": [
    "from distgen import Generator\n",
    "\n",
    "DISTGEN_INPUT_FILE = os.path.join(root,'templates/tesla_9cell_cavity/distgen.in.yaml')\n",
    "\n",
    "G = Generator(DISTGEN_INPUT_FILE)\n",
    "G.run()\n",
    "\n",
    "yaml.dump(yaml.safe_load(DISTGEN_FILE_STR), open(DISTGEN_FILE,'w'))\n"
   ]
  },
  {
   "cell_type": "markdown",
   "metadata": {},
   "source": [
    "# GPT input file:"
   ]
  },
  {
   "cell_type": "code",
   "execution_count": 6,
   "metadata": {},
   "outputs": [],
   "source": [
    "GPT_INPUT_FILE = os.path.join(root,'templates/tesla_9cell_cavity/gpt.in')"
   ]
  },
  {
   "cell_type": "markdown",
   "metadata": {},
   "source": [
    "# Run GPT without phasing\n",
    "---"
   ]
  },
  {
   "cell_type": "code",
   "execution_count": 10,
   "metadata": {},
   "outputs": [
    {
     "name": "stdout",
     "output_type": "stream",
     "text": [
      "Run GPT with Distgen:\n",
      "Replacing param n_particle with value 200\n",
      "Ntout is in gpt\n",
      "field_scale is in gpt\n",
      "Linking particle files, distgen output will point to -> \"gpt.particles.gdf\" in working directory.\n",
      "\n",
      "Distgen >------\n",
      "\n",
      "Distribution format: gpt\n",
      "Output file: /var/folders/t8/f3n1sdnn1jg0wfbpqfm1hsh80000gn/T/tmpwg4bze4l/gpt.particles.gdf\n",
      "\n",
      "Creating beam distribution....\n",
      "   Beam starting from: time\n",
      "   Total charge: 1 nC.\n",
      "   Number of macroparticles: 200.\n",
      "   Assuming cylindrical symmetry...\n",
      "   r distribution: radial Gaussian\n",
      "   theta distribution:       min_theta = 0 rad, max_theta = 6.28319 rad\n",
      "   z distribution: Gaussian\n",
      "      avg_z = 0 mm, sigma_z = 0.100 mm\n",
      "   Shifting avg_x = -1.27662E-05 mm -> 0 mm\n",
      "   Scaling sigma_x = 0.000982028 mm -> 0.001 mm\n",
      "   Shifting avg_y = -2.88062E-06 mm -> 0 mm\n",
      "   Scaling sigma_y = 0.000987073 mm -> 0.001 mm\n",
      "   Shifting avg_z = -0.00197851 mm -> 0 mm\n",
      "   Scaling sigma_z = 0.0976921 mm -> 0.1 mm\n",
      "   Time start: fixing all particle time values to start time: 0 s.\n",
      "      Setting avg_t -> 0 s.\n",
      "   Applying user supplied transform: \"setPz\" = set_avg pz...\n",
      "      Setting avg_pz -> 99.9987 MeV/c.\n",
      "...done. Time Ellapsed: 28.414 ms.\n",
      "\n",
      "Printing 200 particles to \"/var/folders/t8/f3n1sdnn1jg0wfbpqfm1hsh80000gn/T/tmpwg4bze4l/gpt.particles.gdf\":    Converting file to GDF: done. Time ellapsed: 14.1728 ms.\n",
      "...done. Time ellapsed: 19.4848 ms.\n",
      "------< Distgen\n",
      "\n",
      "GPT.run_gpt:\n",
      "   Running GPT...\n",
      "   Writing gpt input file to \"/var/folders/t8/f3n1sdnn1jg0wfbpqfm1hsh80000gn/T/tmpwg4bze4l/gpt.in\"\n",
      "   Running with timeout = 2500 sec.\n",
      "   Loading GPT data from /var/folders/t8/f3n1sdnn1jg0wfbpqfm1hsh80000gn/T/tmpwg4bze4l/gpt.out.gdf\n",
      "   GDF data loaded, time ellapsed: 0.000374079 (sec).\n",
      "   Converting tout and screen data to ParticleGroup(s)\n",
      "   Run finished, total time ellapsed: 0.00947404 (sec)\n",
      "\n",
      "GPT object:\n",
      "   Original input file: gpt.in\n",
      "   Template location: /Users/colwyngulliford/Documents/GitHub/lume-gpt/templates/tesla_9cell_cavity\n",
      "   Use temp directory: True\n",
      "\n",
      "Run Control\n",
      "   Run configured: True\n",
      "   Work location: /var/folders/t8/f3n1sdnn1jg0wfbpqfm1hsh80000gn/T/tmpwg4bze4l\n",
      "   Timeout: 2500 (sec)\n",
      "\n",
      "Results\n",
      "   Finished: True\n",
      "   Error occured: True\n",
      "   Cause: gpt: /var/folders/t8/f3n1sdnn1jg0wfbpqfm1hsh80000gn/T/tmpwg4bze4l/gpt.in(12): Error: \"fields/tesla_9cell_cavity_for_gpt.gdf\": No such file or directory\n",
      "   Run time: 0.009474039077758789 (sec)\n"
     ]
    }
   ],
   "source": [
    "from gpt.gpt_distgen import run_gpt_with_distgen\n",
    "\n",
    "settings={'n_particle':200, \n",
    "          'Ntout':500,\n",
    "          'field_scale':0}\n",
    "\n",
    "G = run_gpt_with_distgen(settings,\n",
    "                         gpt_input_file=GPT_INPUT_FILE,\n",
    "                         distgen_input_file=DISTGEN_FILE,\n",
    "                         #workdir='tmp',\n",
    "                         verbose=True,\n",
    "                         auto_phase=False)\n",
    "\n",
    "print(G)"
   ]
  },
  {
   "cell_type": "markdown",
   "metadata": {},
   "source": [
    "# Clean up"
   ]
  },
  {
   "cell_type": "code",
   "execution_count": 5,
   "metadata": {},
   "outputs": [
    {
     "ename": "NameError",
     "evalue": "name 'GPT_FILE' is not defined",
     "output_type": "error",
     "traceback": [
      "\u001b[0;31m---------------------------------------------------------------------------\u001b[0m",
      "\u001b[0;31mNameError\u001b[0m                                 Traceback (most recent call last)",
      "\u001b[0;32m<ipython-input-5-314bf5ac42e6>\u001b[0m in \u001b[0;36m<module>\u001b[0;34m\u001b[0m\n\u001b[0;32m----> 1\u001b[0;31m \u001b[0mos\u001b[0m\u001b[0;34m.\u001b[0m\u001b[0msystem\u001b[0m\u001b[0;34m(\u001b[0m\u001b[0;34mf'rm -f {GPT_FILE}'\u001b[0m\u001b[0;34m)\u001b[0m\u001b[0;34m;\u001b[0m\u001b[0;34m\u001b[0m\u001b[0;34m\u001b[0m\u001b[0m\n\u001b[0m",
      "\u001b[0;31mNameError\u001b[0m: name 'GPT_FILE' is not defined"
     ]
    }
   ],
   "source": [
    "os.system(f'rm -f {GPT_FILE}');"
   ]
  },
  {
   "cell_type": "code",
   "execution_count": null,
   "metadata": {},
   "outputs": [],
   "source": []
  }
 ],
 "metadata": {
  "kernelspec": {
   "display_name": "Python 3",
   "language": "python",
   "name": "python3"
  },
  "language_info": {
   "codemirror_mode": {
    "name": "ipython",
    "version": 3
   },
   "file_extension": ".py",
   "mimetype": "text/x-python",
   "name": "python",
   "nbconvert_exporter": "python",
   "pygments_lexer": "ipython3",
   "version": "3.6.10"
  }
 },
 "nbformat": 4,
 "nbformat_minor": 4
}
