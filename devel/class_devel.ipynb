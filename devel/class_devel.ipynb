{
 "cells": [
  {
   "cell_type": "code",
   "execution_count": 2,
   "metadata": {},
   "outputs": [],
   "source": [
    "# Useful for debugging\n",
    "%load_ext autoreload\n",
    "%autoreload 2"
   ]
  },
  {
   "cell_type": "code",
   "execution_count": 3,
   "metadata": {},
   "outputs": [],
   "source": [
    "import sys\n",
    "sys.path.append('/Users/colwyngulliford/Documents/GitHub/lume-gpt/')"
   ]
  },
  {
   "cell_type": "code",
   "execution_count": 23,
   "metadata": {},
   "outputs": [
    {
     "data": {
      "text/plain": [
       "'/Users/colwyngulliford/Documents/GitHub/lume-gpt/devel'"
      ]
     },
     "execution_count": 23,
     "metadata": {},
     "output_type": "execute_result"
    }
   ],
   "source": [
    "import tempfile\n",
    "import os\n",
    "import h5py\n",
    "from time import time\n",
    "os.getcwd()"
   ]
  },
  {
   "cell_type": "code",
   "execution_count": 75,
   "metadata": {},
   "outputs": [
    {
     "name": "stdout",
     "output_type": "stream",
     "text": [
      "Map2D_E 0.15 {'R': 'r', 'Z': 'z', 'Er': 'Er', 'Ez': 'Ez'}\n",
      "Map2D_E 0.15 {'R': 'r', 'Z': 'z', 'Er': 'Er', 'Ez': 'Ez'}\n",
      "Map2D_E 0.15 {'R': 'r', 'Z': 'z', 'Er': 'Er', 'Ez': 'Ez'}\n",
      "Map2D_E 0.15 {'R': 'r', 'Z': 'z', 'Er': 'Er', 'Ez': 'Ez'}\n",
      "Map2D_E 0.15 {'R': 'r', 'Z': 'z', 'Er': 'Er', 'Ez': 'Ez'}\n",
      "Map2D_E 0.15 {'R': 'r', 'Z': 'z', 'Er': 'Er', 'Ez': 'Ez'}\n",
      "Map2D_B 0.302 {'R': 'r', 'Z': 'z', 'Br': 'Br', 'Bz': 'Bz'}\n",
      "Map2D_B 1.124 {'R': 'r', 'Z': 'z', 'Br': 'Br', 'Bz': 'Bz'}\n"
     ]
    }
   ],
   "source": [
    "from gpt import tools, parsers, GPT\n",
    "\n",
    "gpt_input_path = os.path.join('/Users/colwyngulliford/Documents/GitHub/lume-gpt', 'templates/cu_injector/gpt.in')\n",
    "G = GPT(input_file=gpt_input_path)\n",
    "\n",
    "G.input['lines']\n",
    "\n",
    "map_strs = ['Map1D_E', 'Map1D_B', 'Map1D_TM', 'Map2D_E', 'Map2D_B', 'Map25D_TM']\n",
    "\n",
    "map_defs = []\n",
    "\n",
    "def parse_Map2D_E(line):\n",
    "    \n",
    "    map_def = {'type':'Map2D_E', 'gpt_line':line}\n",
    "        \n",
    "    line = line.replace('\"','')\n",
    "    line = line.replace('Map2D_E','')\n",
    "    line = line.replace('(','')\n",
    "    line = line.replace(')','')\n",
    "    line = line.replace(';','')\n",
    "    tokens = line.split(',')\n",
    "    \n",
    "    if(tokens[1]=='z'):\n",
    "        zvar = tokens[2]\n",
    "        if(tokens[2] in G.input['variables']):\n",
    "            \n",
    "            map_def['z']=G.input['variables'][tokens[2]]\n",
    "        map_def['file']=tokens[3]\n",
    "        column_names = {tokens[4]:'r', tokens[5]:'z', tokens[6]:'Er', tokens[7]:'Ez'}\n",
    "        map_def['column_names'] = column_names\n",
    "        if(tokens[8] in G.input['variables']):\n",
    "            map_def['scale'] = G.input['variables'][tokens[8]]\n",
    "    else:\n",
    "        if(tokens[3] in G.input['variables']):\n",
    "            map_def['z'] = G.input['variables'][tokens[3]]\n",
    "            \n",
    "        map_def['file']=tokens[10]\n",
    "        column_names = {tokens[11]:'r', tokens[12]:'z', tokens[13]:'Er', tokens[14]:'Ez'}\n",
    "        map_def['column_names'] = column_names\n",
    "        \n",
    "        if(tokens[15] in G.input['variables']):\n",
    "            map_def['scale'] = G.input['variables'][tokens[15]]    \n",
    "\n",
    "    return map_def\n",
    "\n",
    "def parse_Map2D_B(line):\n",
    "    \n",
    "    map_def = {'type':'Map2D_B', 'gpt_line':line}\n",
    "        \n",
    "    line = line.replace('\"','')\n",
    "    line = line.replace('Map2D_B','')\n",
    "    line = line.replace('(','')\n",
    "    line = line.replace(')','')\n",
    "    line = line.replace(';','')\n",
    "    tokens = line.split(',')\n",
    "    \n",
    "    if(tokens[1]=='z'):\n",
    "        zvar = tokens[2]\n",
    "        \n",
    "        if(zvar in G.input['variables']):\n",
    "            map_def['z']=G.input['variables'][zvar]\n",
    "        map_def['file']=tokens[3]\n",
    "        column_names = {tokens[4]:'r', tokens[5]:'z', tokens[6]:'Br', tokens[7]:'Bz'}\n",
    "        map_def['column_names'] = column_names\n",
    "        \n",
    "        if(tokens[8] in G.input['variables']):\n",
    "            map_def['scale'] = G.input['variables'][tokens[8]]\n",
    "    else:\n",
    "\n",
    "        if(tokens[3] in G.input['variables']):\n",
    "            map_def['z'] = G.input['variables'][tokens[3]]\n",
    "            \n",
    "        map_def['file']=tokens[10]\n",
    "        column_names = {tokens[11]:'r', tokens[12]:'z', tokens[13]:'Br', tokens[14]:'Bz'}\n",
    "        map_def['column_names'] = column_names\n",
    "        \n",
    "        if(tokens[15] in G.input['variables']):\n",
    "            map_def['scale'] = G.input['variables'][tokens[15]]\n",
    "        \n",
    "    return map_def\n",
    "        \n",
    "for ii,line in enumerate(G.input['lines']):\n",
    "    for map_str in map_strs:\n",
    "        line = line.replace(' ','')\n",
    "        if(line.startswith(map_str)):\n",
    "            \n",
    "            if(map_str=='Map2D_E'):\n",
    "                map_defs.append(parse_Map2D_E(line))\n",
    "            elif(map_str=='Map2D_B'):\n",
    "                map_defs.append(parse_Map2D_B(line))\n",
    "            \n",
    "            break\n",
    "            \n",
    "for md in map_defs:\n",
    "    print(md['type'], md['z'], md['column_names'])"
   ]
  },
  {
   "cell_type": "code",
   "execution_count": null,
   "metadata": {},
   "outputs": [],
   "source": []
  }
 ],
 "metadata": {
  "kernelspec": {
   "display_name": "Python 3",
   "language": "python",
   "name": "python3"
  },
  "language_info": {
   "codemirror_mode": {
    "name": "ipython",
    "version": 3
   },
   "file_extension": ".py",
   "mimetype": "text/x-python",
   "name": "python",
   "nbconvert_exporter": "python",
   "pygments_lexer": "ipython3",
   "version": "3.6.10"
  }
 },
 "nbformat": 4,
 "nbformat_minor": 4
}
