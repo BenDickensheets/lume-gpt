{
 "cells": [
  {
   "cell_type": "code",
   "execution_count": 1,
   "metadata": {},
   "outputs": [],
   "source": [
    "import numpy as np"
   ]
  },
  {
   "cell_type": "markdown",
   "metadata": {},
   "source": [
    "# Bending Stress Simulation\n",
    "---\n",
    "\n",
    "Here we model the bending stress on a pipe with length $L$, width $W$, height $H$, and modulus $B$ (?).  The bending stress $\\Gamma$ is given by:\n",
    "\n",
    "$\\Gamma(L,W,H,B) = \\frac{6WL}{BH^2}$.\n",
    "\n",
    "We are given mean values for the input length scale parameters $\\bar{L}$, width $\\bar{W}$, height $\\bar{H}$, as well as their (normal) realitve standard deviations $\\delta L$, $\\delta W$, $\\delta H$ (here $\\delta x = \\sigma_x/\\bar{x}$).  Given this, we would like to know $\\bar{\\Gamma}$ and $\\delta\\Gamma$ and in what percentage of cases is $\\Gamma$ greater than a certain tolerance. \n",
    "\n",
    "# Define the input parameters "
   ]
  },
  {
   "cell_type": "code",
   "execution_count": 2,
   "metadata": {},
   "outputs": [],
   "source": [
    "Lbar = 2\n",
    "delta_L = 0.1\n",
    "\n",
    "Wbar = 4\n",
    "delta_W = 0.1\n",
    "\n",
    "Hbar = 0.2\n",
    "delta_H = 0.2\n",
    "\n",
    "B = 1"
   ]
  },
  {
   "cell_type": "markdown",
   "metadata": {},
   "source": [
    "# Create Population with N samples from normal distribution"
   ]
  },
  {
   "cell_type": "code",
   "execution_count": 3,
   "metadata": {},
   "outputs": [
    {
     "name": "stdout",
     "output_type": "stream",
     "text": [
      "CPU times: user 2 µs, sys: 1e+03 ns, total: 3 µs\n",
      "Wall time: 6.2 µs\n"
     ]
    }
   ],
   "source": [
    "# Create a population with N samples:\n",
    "%time\n",
    "N = 1000000 # 1 million\n",
    "\n",
    "sigma_L = Lbar*delta_L\n",
    "sigma_W = Wbar*delta_W\n",
    "sigma_H = Hbar*delta_H\n",
    "\n",
    "L = np.random.normal(Lbar, sigma_L, N)  # Array of normally distributed values \n",
    "W = np.random.normal(Wbar, sigma_W, N)\n",
    "H = np.random.normal(Hbar, sigma_H, N)"
   ]
  },
  {
   "cell_type": "markdown",
   "metadata": {},
   "source": [
    "# Compute Bending Stress"
   ]
  },
  {
   "cell_type": "code",
   "execution_count": 4,
   "metadata": {},
   "outputs": [
    {
     "name": "stdout",
     "output_type": "stream",
     "text": [
      "CPU times: user 2 µs, sys: 4 µs, total: 6 µs\n",
      "Wall time: 5.01 µs\n",
      "\n",
      "Mean bending stress: 1412.8518889604331\n",
      "Fractional bending stress RMS: 1355.1609855416757 %\n"
     ]
    }
   ],
   "source": [
    "%time\n",
    "Gamma = 6*L*W/B/H**2\n",
    "\n",
    "print('\\nMean bending stress:', Gamma.mean())\n",
    "print('Fractional bending stress RMS:', 100*Gamma.std()/Gamma.mean(), '%')"
   ]
  },
  {
   "cell_type": "markdown",
   "metadata": {},
   "source": [
    "# Compute Fraction above tolerance:"
   ]
  },
  {
   "cell_type": "code",
   "execution_count": 13,
   "metadata": {},
   "outputs": [
    {
     "name": "stdout",
     "output_type": "stream",
     "text": [
      "CPU times: user 3 µs, sys: 0 ns, total: 3 µs\n",
      "Wall time: 5.01 µs\n",
      "\n",
      "Fraction over tolerance: 30.406899999999997 %\n"
     ]
    }
   ],
   "source": [
    "%time\n",
    "tolerance = 1500\n",
    "\n",
    "Gamma_over_tolerance = Gamma[Gamma > tolerance]   # Returns subarray where Gamma > tolerance\n",
    "\n",
    "fraction_over_tolerance = len(Gamma_over_tolerance)/len(Gamma)\n",
    "\n",
    "print('\\nFraction over tolerance:' , 100*fraction_over_tolerance, '%')"
   ]
  },
  {
   "cell_type": "code",
   "execution_count": null,
   "metadata": {},
   "outputs": [],
   "source": []
  }
 ],
 "metadata": {
  "kernelspec": {
   "display_name": "Python 3",
   "language": "python",
   "name": "python3"
  },
  "language_info": {
   "codemirror_mode": {
    "name": "ipython",
    "version": 3
   },
   "file_extension": ".py",
   "mimetype": "text/x-python",
   "name": "python",
   "nbconvert_exporter": "python",
   "pygments_lexer": "ipython3",
   "version": "3.8.5"
  }
 },
 "nbformat": 4,
 "nbformat_minor": 4
}
